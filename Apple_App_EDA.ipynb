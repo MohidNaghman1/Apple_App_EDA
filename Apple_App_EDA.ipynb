{
 "cells": [
  {
   "cell_type": "code",
   "execution_count": 1,
   "metadata": {},
   "outputs": [
    {
     "name": "stderr",
     "output_type": "stream",
     "text": [
      "C:\\Users\\lenovo\\AppData\\Local\\Temp\\ipykernel_11252\\383278000.py:1: DeprecationWarning: \n",
      "Pyarrow will become a required dependency of pandas in the next major release of pandas (pandas 3.0),\n",
      "(to allow more performant data types, such as the Arrow string type, and better interoperability with other libraries)\n",
      "but was not found to be installed on your system.\n",
      "If this would cause problems for you,\n",
      "please provide us feedback at https://github.com/pandas-dev/pandas/issues/54466\n",
      "        \n",
      "  import pandas as pd\n"
     ]
    }
   ],
   "source": [
    "import pandas as pd\n",
    "import seaborn as sns\n",
    "import numpy as np\n",
    "import matplotlib.pyplot as plt"
   ]
  },
  {
   "cell_type": "code",
   "execution_count": 3,
   "metadata": {},
   "outputs": [],
   "source": [
    "df = pd.read_csv('AppleApp.csv')"
   ]
  },
  {
   "cell_type": "code",
   "execution_count": 116,
   "metadata": {},
   "outputs": [
    {
     "data": {
      "text/html": [
       "<div>\n",
       "<style scoped>\n",
       "    .dataframe tbody tr th:only-of-type {\n",
       "        vertical-align: middle;\n",
       "    }\n",
       "\n",
       "    .dataframe tbody tr th {\n",
       "        vertical-align: top;\n",
       "    }\n",
       "\n",
       "    .dataframe thead th {\n",
       "        text-align: right;\n",
       "    }\n",
       "</style>\n",
       "<table border=\"1\" class=\"dataframe\">\n",
       "  <thead>\n",
       "    <tr style=\"text-align: right;\">\n",
       "      <th></th>\n",
       "      <th>App_Id</th>\n",
       "      <th>App_Name</th>\n",
       "      <th>AppStore_Url</th>\n",
       "      <th>Primary_Genre</th>\n",
       "      <th>Content_Rating</th>\n",
       "      <th>Size_Bytes</th>\n",
       "      <th>Required_IOS_Version</th>\n",
       "      <th>Released</th>\n",
       "      <th>Updated</th>\n",
       "      <th>Version</th>\n",
       "      <th>...</th>\n",
       "      <th>Currency</th>\n",
       "      <th>Free</th>\n",
       "      <th>DeveloperId</th>\n",
       "      <th>Developer</th>\n",
       "      <th>Developer_Url</th>\n",
       "      <th>Developer_Website</th>\n",
       "      <th>Average_User_Rating</th>\n",
       "      <th>Reviews</th>\n",
       "      <th>Current_Version_Score</th>\n",
       "      <th>Current_Version_Reviews</th>\n",
       "    </tr>\n",
       "  </thead>\n",
       "  <tbody>\n",
       "    <tr>\n",
       "      <th>0</th>\n",
       "      <td>com.hkbu.arc.apaper</td>\n",
       "      <td>A+ Paper Guide</td>\n",
       "      <td>https://apps.apple.com/us/app/a-paper-guide/id...</td>\n",
       "      <td>Education</td>\n",
       "      <td>4+</td>\n",
       "      <td>21993472.0</td>\n",
       "      <td>8.0</td>\n",
       "      <td>2017-09-28T03:02:41Z</td>\n",
       "      <td>2018-12-21T21:30:36Z</td>\n",
       "      <td>1.1.2</td>\n",
       "      <td>...</td>\n",
       "      <td>USD</td>\n",
       "      <td>True</td>\n",
       "      <td>1375410542</td>\n",
       "      <td>HKBU ARC</td>\n",
       "      <td>https://apps.apple.com/us/developer/hkbu-arc/i...</td>\n",
       "      <td>NaN</td>\n",
       "      <td>0.0</td>\n",
       "      <td>0</td>\n",
       "      <td>0.0</td>\n",
       "      <td>0</td>\n",
       "    </tr>\n",
       "    <tr>\n",
       "      <th>1</th>\n",
       "      <td>com.dmitriev.abooks</td>\n",
       "      <td>A-Books</td>\n",
       "      <td>https://apps.apple.com/us/app/a-books/id103157...</td>\n",
       "      <td>Book</td>\n",
       "      <td>4+</td>\n",
       "      <td>13135872.0</td>\n",
       "      <td>10.0</td>\n",
       "      <td>2015-08-31T19:31:32Z</td>\n",
       "      <td>2019-07-23T20:31:09Z</td>\n",
       "      <td>1.3</td>\n",
       "      <td>...</td>\n",
       "      <td>USD</td>\n",
       "      <td>True</td>\n",
       "      <td>1031572001</td>\n",
       "      <td>Roman Dmitriev</td>\n",
       "      <td>https://apps.apple.com/us/developer/roman-dmit...</td>\n",
       "      <td>NaN</td>\n",
       "      <td>5.0</td>\n",
       "      <td>1</td>\n",
       "      <td>5.0</td>\n",
       "      <td>1</td>\n",
       "    </tr>\n",
       "    <tr>\n",
       "      <th>2</th>\n",
       "      <td>no.terp.abooks</td>\n",
       "      <td>A-books</td>\n",
       "      <td>https://apps.apple.com/us/app/a-books/id145702...</td>\n",
       "      <td>Book</td>\n",
       "      <td>4+</td>\n",
       "      <td>21943296.0</td>\n",
       "      <td>9.0</td>\n",
       "      <td>2021-04-14T07:00:00Z</td>\n",
       "      <td>2021-05-30T21:08:54Z</td>\n",
       "      <td>1.3.1</td>\n",
       "      <td>...</td>\n",
       "      <td>USD</td>\n",
       "      <td>True</td>\n",
       "      <td>1457024163</td>\n",
       "      <td>Terp AS</td>\n",
       "      <td>https://apps.apple.com/us/developer/terp-as/id...</td>\n",
       "      <td>NaN</td>\n",
       "      <td>0.0</td>\n",
       "      <td>0</td>\n",
       "      <td>0.0</td>\n",
       "      <td>0</td>\n",
       "    </tr>\n",
       "    <tr>\n",
       "      <th>3</th>\n",
       "      <td>fr.antoinettefleur.Book1</td>\n",
       "      <td>A-F Book #1</td>\n",
       "      <td>https://apps.apple.com/us/app/a-f-book-1/id500...</td>\n",
       "      <td>Book</td>\n",
       "      <td>4+</td>\n",
       "      <td>81851392.0</td>\n",
       "      <td>8.0</td>\n",
       "      <td>2012-02-10T03:40:07Z</td>\n",
       "      <td>2019-10-29T12:40:37Z</td>\n",
       "      <td>1.2</td>\n",
       "      <td>...</td>\n",
       "      <td>USD</td>\n",
       "      <td>False</td>\n",
       "      <td>439568839</td>\n",
       "      <td>i-editeur.com</td>\n",
       "      <td>https://apps.apple.com/us/developer/i-editeur-...</td>\n",
       "      <td>NaN</td>\n",
       "      <td>0.0</td>\n",
       "      <td>0</td>\n",
       "      <td>0.0</td>\n",
       "      <td>0</td>\n",
       "    </tr>\n",
       "    <tr>\n",
       "      <th>4</th>\n",
       "      <td>com.imonstersoft.azdictionaryios</td>\n",
       "      <td>A-Z Synonyms Dictionary</td>\n",
       "      <td>https://apps.apple.com/us/app/a-z-synonyms-dic...</td>\n",
       "      <td>Reference</td>\n",
       "      <td>4+</td>\n",
       "      <td>64692224.0</td>\n",
       "      <td>9.0</td>\n",
       "      <td>2020-12-16T08:00:00Z</td>\n",
       "      <td>2020-12-18T21:36:11Z</td>\n",
       "      <td>1.0.1</td>\n",
       "      <td>...</td>\n",
       "      <td>USD</td>\n",
       "      <td>True</td>\n",
       "      <td>656731821</td>\n",
       "      <td>Ngov chiheang</td>\n",
       "      <td>https://apps.apple.com/us/developer/ngov-chihe...</td>\n",
       "      <td>http://imonstersoft.com</td>\n",
       "      <td>0.0</td>\n",
       "      <td>0</td>\n",
       "      <td>0.0</td>\n",
       "      <td>0</td>\n",
       "    </tr>\n",
       "  </tbody>\n",
       "</table>\n",
       "<p>5 rows × 21 columns</p>\n",
       "</div>"
      ],
      "text/plain": [
       "                             App_Id                 App_Name  \\\n",
       "0               com.hkbu.arc.apaper           A+ Paper Guide   \n",
       "1               com.dmitriev.abooks                  A-Books   \n",
       "2                    no.terp.abooks                  A-books   \n",
       "3          fr.antoinettefleur.Book1              A-F Book #1   \n",
       "4  com.imonstersoft.azdictionaryios  A-Z Synonyms Dictionary   \n",
       "\n",
       "                                        AppStore_Url Primary_Genre  \\\n",
       "0  https://apps.apple.com/us/app/a-paper-guide/id...     Education   \n",
       "1  https://apps.apple.com/us/app/a-books/id103157...          Book   \n",
       "2  https://apps.apple.com/us/app/a-books/id145702...          Book   \n",
       "3  https://apps.apple.com/us/app/a-f-book-1/id500...          Book   \n",
       "4  https://apps.apple.com/us/app/a-z-synonyms-dic...     Reference   \n",
       "\n",
       "  Content_Rating  Size_Bytes Required_IOS_Version              Released  \\\n",
       "0             4+  21993472.0                  8.0  2017-09-28T03:02:41Z   \n",
       "1             4+  13135872.0                 10.0  2015-08-31T19:31:32Z   \n",
       "2             4+  21943296.0                  9.0  2021-04-14T07:00:00Z   \n",
       "3             4+  81851392.0                  8.0  2012-02-10T03:40:07Z   \n",
       "4             4+  64692224.0                  9.0  2020-12-16T08:00:00Z   \n",
       "\n",
       "                Updated Version  ...  Currency   Free  DeveloperId  \\\n",
       "0  2018-12-21T21:30:36Z   1.1.2  ...       USD   True   1375410542   \n",
       "1  2019-07-23T20:31:09Z     1.3  ...       USD   True   1031572001   \n",
       "2  2021-05-30T21:08:54Z   1.3.1  ...       USD   True   1457024163   \n",
       "3  2019-10-29T12:40:37Z     1.2  ...       USD  False    439568839   \n",
       "4  2020-12-18T21:36:11Z   1.0.1  ...       USD   True    656731821   \n",
       "\n",
       "        Developer                                      Developer_Url  \\\n",
       "0        HKBU ARC  https://apps.apple.com/us/developer/hkbu-arc/i...   \n",
       "1  Roman Dmitriev  https://apps.apple.com/us/developer/roman-dmit...   \n",
       "2         Terp AS  https://apps.apple.com/us/developer/terp-as/id...   \n",
       "3   i-editeur.com  https://apps.apple.com/us/developer/i-editeur-...   \n",
       "4   Ngov chiheang  https://apps.apple.com/us/developer/ngov-chihe...   \n",
       "\n",
       "         Developer_Website Average_User_Rating  Reviews  \\\n",
       "0                      NaN                 0.0        0   \n",
       "1                      NaN                 5.0        1   \n",
       "2                      NaN                 0.0        0   \n",
       "3                      NaN                 0.0        0   \n",
       "4  http://imonstersoft.com                 0.0        0   \n",
       "\n",
       "   Current_Version_Score  Current_Version_Reviews  \n",
       "0                    0.0                        0  \n",
       "1                    5.0                        1  \n",
       "2                    0.0                        0  \n",
       "3                    0.0                        0  \n",
       "4                    0.0                        0  \n",
       "\n",
       "[5 rows x 21 columns]"
      ]
     },
     "execution_count": 116,
     "metadata": {},
     "output_type": "execute_result"
    }
   ],
   "source": [
    "df.head()"
   ]
  },
  {
   "cell_type": "code",
   "execution_count": 117,
   "metadata": {},
   "outputs": [
    {
     "data": {
      "text/plain": [
       "(1230376, 21)"
      ]
     },
     "execution_count": 117,
     "metadata": {},
     "output_type": "execute_result"
    }
   ],
   "source": [
    "df.shape"
   ]
  },
  {
   "cell_type": "code",
   "execution_count": 118,
   "metadata": {},
   "outputs": [
    {
     "name": "stdout",
     "output_type": "stream",
     "text": [
      "<class 'pandas.core.frame.DataFrame'>\n",
      "RangeIndex: 1230376 entries, 0 to 1230375\n",
      "Data columns (total 21 columns):\n",
      " #   Column                   Non-Null Count    Dtype  \n",
      "---  ------                   --------------    -----  \n",
      " 0   App_Id                   1230376 non-null  object \n",
      " 1   App_Name                 1230375 non-null  object \n",
      " 2   AppStore_Url             1230376 non-null  object \n",
      " 3   Primary_Genre            1230376 non-null  object \n",
      " 4   Content_Rating           1230376 non-null  object \n",
      " 5   Size_Bytes               1230152 non-null  float64\n",
      " 6   Required_IOS_Version     1230376 non-null  object \n",
      " 7   Released                 1230373 non-null  object \n",
      " 8   Updated                  1230376 non-null  object \n",
      " 9   Version                  1230376 non-null  object \n",
      " 10  Price                    1229886 non-null  float64\n",
      " 11  Currency                 1230376 non-null  object \n",
      " 12  Free                     1230376 non-null  bool   \n",
      " 13  DeveloperId              1230376 non-null  int64  \n",
      " 14  Developer                1230376 non-null  object \n",
      " 15  Developer_Url            1229267 non-null  object \n",
      " 16  Developer_Website        586388 non-null   object \n",
      " 17  Average_User_Rating      1230376 non-null  float64\n",
      " 18  Reviews                  1230376 non-null  int64  \n",
      " 19  Current_Version_Score    1230376 non-null  float64\n",
      " 20  Current_Version_Reviews  1230376 non-null  int64  \n",
      "dtypes: bool(1), float64(4), int64(3), object(13)\n",
      "memory usage: 188.9+ MB\n"
     ]
    }
   ],
   "source": [
    "df.info()"
   ]
  },
  {
   "cell_type": "code",
   "execution_count": 119,
   "metadata": {},
   "outputs": [
    {
     "data": {
      "text/plain": [
       "Index(['App_Id', 'App_Name', 'AppStore_Url', 'Primary_Genre', 'Content_Rating',\n",
       "       'Size_Bytes', 'Required_IOS_Version', 'Released', 'Updated', 'Version',\n",
       "       'Price', 'Currency', 'Free', 'DeveloperId', 'Developer',\n",
       "       'Developer_Url', 'Developer_Website', 'Average_User_Rating', 'Reviews',\n",
       "       'Current_Version_Score', 'Current_Version_Reviews'],\n",
       "      dtype='object')"
      ]
     },
     "execution_count": 119,
     "metadata": {},
     "output_type": "execute_result"
    }
   ],
   "source": [
    "df.columns"
   ]
  },
  {
   "cell_type": "code",
   "execution_count": 120,
   "metadata": {},
   "outputs": [
    {
     "data": {
      "text/plain": [
       "App_Id                          0\n",
       "App_Name                        1\n",
       "AppStore_Url                    0\n",
       "Primary_Genre                   0\n",
       "Content_Rating                  0\n",
       "Size_Bytes                    224\n",
       "Required_IOS_Version            0\n",
       "Released                        3\n",
       "Updated                         0\n",
       "Version                         0\n",
       "Price                         490\n",
       "Currency                        0\n",
       "Free                            0\n",
       "DeveloperId                     0\n",
       "Developer                       0\n",
       "Developer_Url                1109\n",
       "Developer_Website          643988\n",
       "Average_User_Rating             0\n",
       "Reviews                         0\n",
       "Current_Version_Score           0\n",
       "Current_Version_Reviews         0\n",
       "dtype: int64"
      ]
     },
     "execution_count": 120,
     "metadata": {},
     "output_type": "execute_result"
    }
   ],
   "source": [
    "df.isnull().sum()"
   ]
  },
  {
   "cell_type": "code",
   "execution_count": null,
   "metadata": {},
   "outputs": [],
   "source": []
  },
  {
   "cell_type": "markdown",
   "metadata": {},
   "source": [
    "# Dealing with missing Value \n"
   ]
  },
  {
   "cell_type": "code",
   "execution_count": 121,
   "metadata": {},
   "outputs": [
    {
     "data": {
      "text/plain": [
       "App_Id                          0\n",
       "App_Name                        1\n",
       "AppStore_Url                    0\n",
       "Primary_Genre                   0\n",
       "Content_Rating                  0\n",
       "Size_Bytes                    224\n",
       "Required_IOS_Version            0\n",
       "Released                        3\n",
       "Updated                         0\n",
       "Version                         0\n",
       "Price                         490\n",
       "Currency                        0\n",
       "Free                            0\n",
       "DeveloperId                     0\n",
       "Developer                       0\n",
       "Developer_Url                1109\n",
       "Developer_Website          643988\n",
       "Average_User_Rating             0\n",
       "Reviews                         0\n",
       "Current_Version_Score           0\n",
       "Current_Version_Reviews         0\n",
       "dtype: int64"
      ]
     },
     "execution_count": 121,
     "metadata": {},
     "output_type": "execute_result"
    }
   ],
   "source": [
    "df.isnull().sum()"
   ]
  },
  {
   "cell_type": "markdown",
   "metadata": {},
   "source": []
  },
  {
   "cell_type": "code",
   "execution_count": 122,
   "metadata": {},
   "outputs": [],
   "source": [
    "df.drop('Developer_Website',axis=1,inplace=True)\n"
   ]
  },
  {
   "cell_type": "code",
   "execution_count": 123,
   "metadata": {},
   "outputs": [
    {
     "data": {
      "text/plain": [
       "App_Id                        0\n",
       "App_Name                      1\n",
       "AppStore_Url                  0\n",
       "Primary_Genre                 0\n",
       "Content_Rating                0\n",
       "Size_Bytes                  224\n",
       "Required_IOS_Version          0\n",
       "Released                      3\n",
       "Updated                       0\n",
       "Version                       0\n",
       "Price                       490\n",
       "Currency                      0\n",
       "Free                          0\n",
       "DeveloperId                   0\n",
       "Developer                     0\n",
       "Developer_Url              1109\n",
       "Average_User_Rating           0\n",
       "Reviews                       0\n",
       "Current_Version_Score         0\n",
       "Current_Version_Reviews       0\n",
       "dtype: int64"
      ]
     },
     "execution_count": 123,
     "metadata": {},
     "output_type": "execute_result"
    }
   ],
   "source": [
    "df.isnull().sum()"
   ]
  },
  {
   "cell_type": "code",
   "execution_count": 124,
   "metadata": {},
   "outputs": [],
   "source": [
    "df.drop('Developer_Url',axis=1,inplace=True)"
   ]
  },
  {
   "cell_type": "code",
   "execution_count": 125,
   "metadata": {},
   "outputs": [
    {
     "data": {
      "text/plain": [
       "App_Id                       0\n",
       "App_Name                     1\n",
       "AppStore_Url                 0\n",
       "Primary_Genre                0\n",
       "Content_Rating               0\n",
       "Size_Bytes                 224\n",
       "Required_IOS_Version         0\n",
       "Released                     3\n",
       "Updated                      0\n",
       "Version                      0\n",
       "Price                      490\n",
       "Currency                     0\n",
       "Free                         0\n",
       "DeveloperId                  0\n",
       "Developer                    0\n",
       "Average_User_Rating          0\n",
       "Reviews                      0\n",
       "Current_Version_Score        0\n",
       "Current_Version_Reviews      0\n",
       "dtype: int64"
      ]
     },
     "execution_count": 125,
     "metadata": {},
     "output_type": "execute_result"
    }
   ],
   "source": [
    "df.isnull().sum()"
   ]
  },
  {
   "cell_type": "code",
   "execution_count": 126,
   "metadata": {},
   "outputs": [
    {
     "data": {
      "text/html": [
       "<div>\n",
       "<style scoped>\n",
       "    .dataframe tbody tr th:only-of-type {\n",
       "        vertical-align: middle;\n",
       "    }\n",
       "\n",
       "    .dataframe tbody tr th {\n",
       "        vertical-align: top;\n",
       "    }\n",
       "\n",
       "    .dataframe thead th {\n",
       "        text-align: right;\n",
       "    }\n",
       "</style>\n",
       "<table border=\"1\" class=\"dataframe\">\n",
       "  <thead>\n",
       "    <tr style=\"text-align: right;\">\n",
       "      <th></th>\n",
       "      <th>App_Id</th>\n",
       "      <th>App_Name</th>\n",
       "      <th>AppStore_Url</th>\n",
       "      <th>Primary_Genre</th>\n",
       "      <th>Content_Rating</th>\n",
       "      <th>Size_Bytes</th>\n",
       "      <th>Required_IOS_Version</th>\n",
       "      <th>Released</th>\n",
       "      <th>Updated</th>\n",
       "      <th>Version</th>\n",
       "      <th>Price</th>\n",
       "      <th>Currency</th>\n",
       "      <th>Free</th>\n",
       "      <th>DeveloperId</th>\n",
       "      <th>Developer</th>\n",
       "      <th>Average_User_Rating</th>\n",
       "      <th>Reviews</th>\n",
       "      <th>Current_Version_Score</th>\n",
       "      <th>Current_Version_Reviews</th>\n",
       "    </tr>\n",
       "  </thead>\n",
       "  <tbody>\n",
       "    <tr>\n",
       "      <th>964888</th>\n",
       "      <td>se.promedia.NA</td>\n",
       "      <td>NaN</td>\n",
       "      <td>https://apps.apple.com/us/app/na/id449134868?uo=4</td>\n",
       "      <td>News</td>\n",
       "      <td>4+</td>\n",
       "      <td>19528704.0</td>\n",
       "      <td>9.0</td>\n",
       "      <td>2011-08-08T11:45:30Z</td>\n",
       "      <td>2020-12-21T14:08:02Z</td>\n",
       "      <td>8.1.2</td>\n",
       "      <td>0.0</td>\n",
       "      <td>USD</td>\n",
       "      <td>True</td>\n",
       "      <td>449134871</td>\n",
       "      <td>Promedia</td>\n",
       "      <td>5.0</td>\n",
       "      <td>1</td>\n",
       "      <td>5.0</td>\n",
       "      <td>1</td>\n",
       "    </tr>\n",
       "  </tbody>\n",
       "</table>\n",
       "</div>"
      ],
      "text/plain": [
       "                App_Id App_Name  \\\n",
       "964888  se.promedia.NA      NaN   \n",
       "\n",
       "                                             AppStore_Url Primary_Genre  \\\n",
       "964888  https://apps.apple.com/us/app/na/id449134868?uo=4          News   \n",
       "\n",
       "       Content_Rating  Size_Bytes Required_IOS_Version              Released  \\\n",
       "964888             4+  19528704.0                  9.0  2011-08-08T11:45:30Z   \n",
       "\n",
       "                     Updated Version  Price Currency  Free  DeveloperId  \\\n",
       "964888  2020-12-21T14:08:02Z   8.1.2    0.0      USD  True    449134871   \n",
       "\n",
       "       Developer  Average_User_Rating  Reviews  Current_Version_Score  \\\n",
       "964888  Promedia                  5.0        1                    5.0   \n",
       "\n",
       "        Current_Version_Reviews  \n",
       "964888                        1  "
      ]
     },
     "execution_count": 126,
     "metadata": {},
     "output_type": "execute_result"
    }
   ],
   "source": [
    "df[df['App_Name'].isnull()]"
   ]
  },
  {
   "cell_type": "code",
   "execution_count": 127,
   "metadata": {},
   "outputs": [
    {
     "data": {
      "text/html": [
       "<div>\n",
       "<style scoped>\n",
       "    .dataframe tbody tr th:only-of-type {\n",
       "        vertical-align: middle;\n",
       "    }\n",
       "\n",
       "    .dataframe tbody tr th {\n",
       "        vertical-align: top;\n",
       "    }\n",
       "\n",
       "    .dataframe thead th {\n",
       "        text-align: right;\n",
       "    }\n",
       "</style>\n",
       "<table border=\"1\" class=\"dataframe\">\n",
       "  <thead>\n",
       "    <tr style=\"text-align: right;\">\n",
       "      <th></th>\n",
       "      <th>App_Id</th>\n",
       "      <th>App_Name</th>\n",
       "      <th>AppStore_Url</th>\n",
       "      <th>Primary_Genre</th>\n",
       "      <th>Content_Rating</th>\n",
       "      <th>Size_Bytes</th>\n",
       "      <th>Required_IOS_Version</th>\n",
       "      <th>Released</th>\n",
       "      <th>Updated</th>\n",
       "      <th>Version</th>\n",
       "      <th>Price</th>\n",
       "      <th>Currency</th>\n",
       "      <th>Free</th>\n",
       "      <th>DeveloperId</th>\n",
       "      <th>Developer</th>\n",
       "      <th>Average_User_Rating</th>\n",
       "      <th>Reviews</th>\n",
       "      <th>Current_Version_Score</th>\n",
       "      <th>Current_Version_Reviews</th>\n",
       "    </tr>\n",
       "  </thead>\n",
       "  <tbody>\n",
       "    <tr>\n",
       "      <th>264853</th>\n",
       "      <td>com.ironhidegames.frontiers.universal.premium</td>\n",
       "      <td>Kingdom Rush Frontiers TD+</td>\n",
       "      <td>https://apps.apple.com/us/app/kingdom-rush-fro...</td>\n",
       "      <td>Games</td>\n",
       "      <td>12+</td>\n",
       "      <td>NaN</td>\n",
       "      <td>13.0</td>\n",
       "      <td>NaN</td>\n",
       "      <td>2021-11-12T08:00:00Z</td>\n",
       "      <td>5.4.15</td>\n",
       "      <td>NaN</td>\n",
       "      <td>USD</td>\n",
       "      <td>False</td>\n",
       "      <td>1542047256</td>\n",
       "      <td>Ironhide Irl</td>\n",
       "      <td>0.0</td>\n",
       "      <td>0</td>\n",
       "      <td>0.0</td>\n",
       "      <td>0</td>\n",
       "    </tr>\n",
       "    <tr>\n",
       "      <th>836858</th>\n",
       "      <td>com.redgamesco.transformers</td>\n",
       "      <td>Transformers: Tactical Arena</td>\n",
       "      <td>https://apps.apple.com/us/app/transformers-tac...</td>\n",
       "      <td>Games</td>\n",
       "      <td>9+</td>\n",
       "      <td>NaN</td>\n",
       "      <td>13.5.0</td>\n",
       "      <td>NaN</td>\n",
       "      <td>2021-11-05T07:00:00Z</td>\n",
       "      <td>0.1</td>\n",
       "      <td>NaN</td>\n",
       "      <td>USD</td>\n",
       "      <td>False</td>\n",
       "      <td>1456007507</td>\n",
       "      <td>RED GAMES CO, LLC</td>\n",
       "      <td>0.0</td>\n",
       "      <td>0</td>\n",
       "      <td>0.0</td>\n",
       "      <td>0</td>\n",
       "    </tr>\n",
       "    <tr>\n",
       "      <th>919513</th>\n",
       "      <td>com.crayolallc.crayola-create-and-play-plus</td>\n",
       "      <td>Crayola Create and Play+</td>\n",
       "      <td>https://apps.apple.com/us/app/crayola-create-a...</td>\n",
       "      <td>Games</td>\n",
       "      <td>4+</td>\n",
       "      <td>NaN</td>\n",
       "      <td>13</td>\n",
       "      <td>NaN</td>\n",
       "      <td>2021-10-29T07:00:00Z</td>\n",
       "      <td>1.52</td>\n",
       "      <td>NaN</td>\n",
       "      <td>USD</td>\n",
       "      <td>False</td>\n",
       "      <td>1456007507</td>\n",
       "      <td>RED GAMES CO, LLC</td>\n",
       "      <td>0.0</td>\n",
       "      <td>0</td>\n",
       "      <td>0.0</td>\n",
       "      <td>0</td>\n",
       "    </tr>\n",
       "  </tbody>\n",
       "</table>\n",
       "</div>"
      ],
      "text/plain": [
       "                                               App_Id  \\\n",
       "264853  com.ironhidegames.frontiers.universal.premium   \n",
       "836858                    com.redgamesco.transformers   \n",
       "919513    com.crayolallc.crayola-create-and-play-plus   \n",
       "\n",
       "                            App_Name  \\\n",
       "264853    Kingdom Rush Frontiers TD+   \n",
       "836858  Transformers: Tactical Arena   \n",
       "919513      Crayola Create and Play+   \n",
       "\n",
       "                                             AppStore_Url Primary_Genre  \\\n",
       "264853  https://apps.apple.com/us/app/kingdom-rush-fro...         Games   \n",
       "836858  https://apps.apple.com/us/app/transformers-tac...         Games   \n",
       "919513  https://apps.apple.com/us/app/crayola-create-a...         Games   \n",
       "\n",
       "       Content_Rating  Size_Bytes Required_IOS_Version Released  \\\n",
       "264853            12+         NaN                 13.0      NaN   \n",
       "836858             9+         NaN               13.5.0      NaN   \n",
       "919513             4+         NaN                   13      NaN   \n",
       "\n",
       "                     Updated Version  Price Currency   Free  DeveloperId  \\\n",
       "264853  2021-11-12T08:00:00Z  5.4.15    NaN      USD  False   1542047256   \n",
       "836858  2021-11-05T07:00:00Z     0.1    NaN      USD  False   1456007507   \n",
       "919513  2021-10-29T07:00:00Z    1.52    NaN      USD  False   1456007507   \n",
       "\n",
       "                Developer  Average_User_Rating  Reviews  \\\n",
       "264853       Ironhide Irl                  0.0        0   \n",
       "836858  RED GAMES CO, LLC                  0.0        0   \n",
       "919513  RED GAMES CO, LLC                  0.0        0   \n",
       "\n",
       "        Current_Version_Score  Current_Version_Reviews  \n",
       "264853                    0.0                        0  \n",
       "836858                    0.0                        0  \n",
       "919513                    0.0                        0  "
      ]
     },
     "execution_count": 127,
     "metadata": {},
     "output_type": "execute_result"
    }
   ],
   "source": [
    "df[df['Released'].isnull()]"
   ]
  },
  {
   "cell_type": "code",
   "execution_count": 128,
   "metadata": {},
   "outputs": [],
   "source": [
    "df.dropna(subset=['Released','App_Name'],inplace=True)"
   ]
  },
  {
   "cell_type": "code",
   "execution_count": 129,
   "metadata": {},
   "outputs": [
    {
     "data": {
      "text/plain": [
       "(1230372, 19)"
      ]
     },
     "execution_count": 129,
     "metadata": {},
     "output_type": "execute_result"
    }
   ],
   "source": [
    "df.shape"
   ]
  },
  {
   "cell_type": "code",
   "execution_count": 130,
   "metadata": {},
   "outputs": [
    {
     "data": {
      "text/plain": [
       "App_Name    0\n",
       "Released    0\n",
       "dtype: int64"
      ]
     },
     "execution_count": 130,
     "metadata": {},
     "output_type": "execute_result"
    }
   ],
   "source": [
    "df[['App_Name','Released']].isnull().sum()"
   ]
  },
  {
   "cell_type": "code",
   "execution_count": 131,
   "metadata": {},
   "outputs": [
    {
     "data": {
      "text/plain": [
       "App_Id                       0\n",
       "App_Name                     0\n",
       "AppStore_Url                 0\n",
       "Primary_Genre                0\n",
       "Content_Rating               0\n",
       "Size_Bytes                 221\n",
       "Required_IOS_Version         0\n",
       "Released                     0\n",
       "Updated                      0\n",
       "Version                      0\n",
       "Price                      487\n",
       "Currency                     0\n",
       "Free                         0\n",
       "DeveloperId                  0\n",
       "Developer                    0\n",
       "Average_User_Rating          0\n",
       "Reviews                      0\n",
       "Current_Version_Score        0\n",
       "Current_Version_Reviews      0\n",
       "dtype: int64"
      ]
     },
     "execution_count": 131,
     "metadata": {},
     "output_type": "execute_result"
    }
   ],
   "source": [
    "df.isnull().sum()"
   ]
  },
  {
   "cell_type": "code",
   "execution_count": 132,
   "metadata": {},
   "outputs": [
    {
     "data": {
      "text/plain": [
       "array([0.0000e+00, 2.9900e+00, 1.9900e+00, 9.9000e-01, 4.9900e+00,\n",
       "       9.9900e+00, 5.9900e+00, 6.9900e+00, 1.6990e+01, 1.9990e+01,\n",
       "       3.9990e+01, 5.9990e+01, 8.9900e+00, 7.9900e+00, 1.8990e+01,\n",
       "       3.9900e+00, 2.4990e+01, 1.4990e+01, 2.8990e+01, 2.1990e+01,\n",
       "       1.3990e+01, 1.0990e+01, 1.1990e+01, 1.2999e+02, 2.2990e+01,\n",
       "       1.3999e+02, 2.5990e+01, 1.2990e+01, 4.9990e+01, 2.3990e+01,\n",
       "       1.1999e+02, 7.9990e+01, 1.7990e+01, 4.9999e+02, 2.4999e+02,\n",
       "       1.9999e+02, 2.2999e+02, 3.4990e+01, 2.0990e+01, 9.9990e+01,\n",
       "       3.3990e+01, 5.4990e+01, 4.5990e+01, 4.4990e+01, 2.9990e+01,\n",
       "       6.9990e+01, 2.7990e+01, 8.4990e+01, 6.4990e+01, 1.5990e+01,\n",
       "       2.6990e+01, 3.5990e+01, 4.0990e+01, 1.7499e+02, 1.4999e+02,\n",
       "       9.4990e+01, 7.4990e+01, 3.4999e+02, 4.8990e+01, 1.0999e+02,\n",
       "       3.8990e+01, 3.1990e+01, 3.6990e+01, 8.9990e+01, 1.6999e+02,\n",
       "       1.2499e+02,        nan, 3.9999e+02, 2.1999e+02, 4.3990e+01,\n",
       "       6.9999e+02, 4.2990e+01, 3.7990e+01, 2.9999e+02, 4.4999e+02,\n",
       "       1.5999e+02, 4.1990e+01, 3.2990e+01, 3.0990e+01, 7.9999e+02,\n",
       "       9.9999e+02, 4.7990e+01, 1.7999e+02, 2.0999e+02, 2.3999e+02,\n",
       "       5.9999e+02, 4.6990e+01, 8.9999e+02, 1.8999e+02])"
      ]
     },
     "execution_count": 132,
     "metadata": {},
     "output_type": "execute_result"
    }
   ],
   "source": [
    "df['Price'].unique()"
   ]
  },
  {
   "cell_type": "code",
   "execution_count": 133,
   "metadata": {},
   "outputs": [
    {
     "data": {
      "text/plain": [
       "Primary_Genre\n",
       "Games                     193746\n",
       "Business                  128297\n",
       "Education                 119174\n",
       "Utilities                  94007\n",
       "Lifestyle                  84565\n",
       "Food & Drink               73157\n",
       "Health & Fitness           60724\n",
       "Productivity               59430\n",
       "Entertainment              53147\n",
       "Shopping                   49537\n",
       "Finance                    44984\n",
       "Travel                     43726\n",
       "Sports                     31455\n",
       "Music                      29898\n",
       "Medical                    27995\n",
       "Photo & Video              25957\n",
       "Social Networking          25429\n",
       "News                       20422\n",
       "Reference                  18615\n",
       "Navigation                 12636\n",
       "Stickers                   12407\n",
       "Book                       11472\n",
       "Weather                     3563\n",
       "Graphics & Design           2781\n",
       "Developer Tools             1951\n",
       "Magazines & Newspapers      1297\n",
       "Name: count, dtype: int64"
      ]
     },
     "execution_count": 133,
     "metadata": {},
     "output_type": "execute_result"
    }
   ],
   "source": [
    "df['Primary_Genre'].value_counts()"
   ]
  },
  {
   "cell_type": "code",
   "execution_count": 134,
   "metadata": {},
   "outputs": [
    {
     "data": {
      "text/plain": [
       "Primary_Genre\n",
       "Games                418\n",
       "Entertainment         17\n",
       "Social Networking      9\n",
       "Health & Fitness       7\n",
       "Education              6\n",
       "Productivity           5\n",
       "Utilities              4\n",
       "Photo & Video          4\n",
       "Lifestyle              3\n",
       "Music                  3\n",
       "Finance                3\n",
       "Shopping               2\n",
       "Food & Drink           2\n",
       "Reference              1\n",
       "Graphics & Design      1\n",
       "Medical                1\n",
       "Business               1\n",
       "Name: count, dtype: int64"
      ]
     },
     "execution_count": 134,
     "metadata": {},
     "output_type": "execute_result"
    }
   ],
   "source": [
    "df['Primary_Genre'].loc[df['Price'].isnull()].value_counts().sort_values(ascending=False)"
   ]
  },
  {
   "cell_type": "code",
   "execution_count": 135,
   "metadata": {},
   "outputs": [
    {
     "data": {
      "text/plain": [
       "Primary_Genre      Free \n",
       "Games              False    418\n",
       "Entertainment      False     17\n",
       "Social Networking  False      9\n",
       "Health & Fitness   False      7\n",
       "Education          False      6\n",
       "Productivity       False      5\n",
       "Utilities          False      4\n",
       "Photo & Video      False      4\n",
       "Finance            False      3\n",
       "Music              False      3\n",
       "Lifestyle          False      3\n",
       "Food & Drink       False      2\n",
       "Shopping           False      2\n",
       "Medical            False      1\n",
       "Graphics & Design  False      1\n",
       "Reference          False      1\n",
       "Business           False      1\n",
       "Name: count, dtype: int64"
      ]
     },
     "execution_count": 135,
     "metadata": {},
     "output_type": "execute_result"
    }
   ],
   "source": [
    "df[['Primary_Genre','Free']].loc[df['Price'].isnull()].value_counts().sort_values(ascending=False)"
   ]
  },
  {
   "cell_type": "code",
   "execution_count": 136,
   "metadata": {},
   "outputs": [],
   "source": [
    "for i in df['Primary_Genre'].unique():\n",
    "    df['Price'] = df.groupby('Primary_Genre' )['Price' ].transform(lambda x: x.fillna(x.mean()))"
   ]
  },
  {
   "cell_type": "code",
   "execution_count": 137,
   "metadata": {},
   "outputs": [
    {
     "data": {
      "text/plain": [
       "App_Id                       0\n",
       "App_Name                     0\n",
       "AppStore_Url                 0\n",
       "Primary_Genre                0\n",
       "Content_Rating               0\n",
       "Size_Bytes                 221\n",
       "Required_IOS_Version         0\n",
       "Released                     0\n",
       "Updated                      0\n",
       "Version                      0\n",
       "Price                        0\n",
       "Currency                     0\n",
       "Free                         0\n",
       "DeveloperId                  0\n",
       "Developer                    0\n",
       "Average_User_Rating          0\n",
       "Reviews                      0\n",
       "Current_Version_Score        0\n",
       "Current_Version_Reviews      0\n",
       "dtype: int64"
      ]
     },
     "execution_count": 137,
     "metadata": {},
     "output_type": "execute_result"
    }
   ],
   "source": [
    "df.isnull().sum()"
   ]
  },
  {
   "cell_type": "code",
   "execution_count": 138,
   "metadata": {},
   "outputs": [
    {
     "data": {
      "text/plain": [
       "array(['Education', 'Book', 'Reference', 'News', 'Lifestyle',\n",
       "       'Health & Fitness', 'Games', 'Medical', 'Food & Drink', 'Sports',\n",
       "       'Shopping', 'Entertainment', 'Utilities', 'Stickers',\n",
       "       'Productivity', 'Music', 'Photo & Video', 'Travel', 'Business',\n",
       "       'Social Networking', 'Magazines & Newspapers', 'Navigation',\n",
       "       'Finance', 'Weather', 'Graphics & Design', 'Developer Tools'],\n",
       "      dtype=object)"
      ]
     },
     "execution_count": 138,
     "metadata": {},
     "output_type": "execute_result"
    }
   ],
   "source": [
    "df['Primary_Genre'].unique()"
   ]
  },
  {
   "cell_type": "code",
   "execution_count": 139,
   "metadata": {},
   "outputs": [
    {
     "data": {
      "text/plain": [
       "221"
      ]
     },
     "execution_count": 139,
     "metadata": {},
     "output_type": "execute_result"
    }
   ],
   "source": [
    "df['Size_Bytes'].isnull().sum()"
   ]
  },
  {
   "cell_type": "code",
   "execution_count": 140,
   "metadata": {},
   "outputs": [
    {
     "data": {
      "text/plain": [
       "Primary_Genre\n",
       "Games                218\n",
       "Entertainment          2\n",
       "Social Networking      1\n",
       "Name: count, dtype: int64"
      ]
     },
     "execution_count": 140,
     "metadata": {},
     "output_type": "execute_result"
    }
   ],
   "source": [
    "df['Primary_Genre'].loc[df['Size_Bytes'].isnull()].value_counts().sort_values(ascending=False)"
   ]
  },
  {
   "cell_type": "code",
   "execution_count": 141,
   "metadata": {},
   "outputs": [
    {
     "data": {
      "text/plain": [
       "193528"
      ]
     },
     "execution_count": 141,
     "metadata": {},
     "output_type": "execute_result"
    }
   ],
   "source": [
    "df[df['Primary_Genre']== 'Games'].value_counts().sum()"
   ]
  },
  {
   "cell_type": "code",
   "execution_count": 142,
   "metadata": {},
   "outputs": [],
   "source": [
    "for i in df['Primary_Genre'].unique():\n",
    "    df['Size_Bytes'] = df.groupby('Primary_Genre')['Size_Bytes'].transform(lambda x: x.fillna(x.mean()))"
   ]
  },
  {
   "cell_type": "code",
   "execution_count": 143,
   "metadata": {},
   "outputs": [
    {
     "data": {
      "text/plain": [
       "0"
      ]
     },
     "execution_count": 143,
     "metadata": {},
     "output_type": "execute_result"
    }
   ],
   "source": [
    "df['Size_Bytes'].isnull().sum()"
   ]
  },
  {
   "cell_type": "code",
   "execution_count": 144,
   "metadata": {},
   "outputs": [
    {
     "data": {
      "text/plain": [
       "App_Id                     0\n",
       "App_Name                   0\n",
       "AppStore_Url               0\n",
       "Primary_Genre              0\n",
       "Content_Rating             0\n",
       "Size_Bytes                 0\n",
       "Required_IOS_Version       0\n",
       "Released                   0\n",
       "Updated                    0\n",
       "Version                    0\n",
       "Price                      0\n",
       "Currency                   0\n",
       "Free                       0\n",
       "DeveloperId                0\n",
       "Developer                  0\n",
       "Average_User_Rating        0\n",
       "Reviews                    0\n",
       "Current_Version_Score      0\n",
       "Current_Version_Reviews    0\n",
       "dtype: int64"
      ]
     },
     "execution_count": 144,
     "metadata": {},
     "output_type": "execute_result"
    }
   ],
   "source": [
    "df.isnull().sum()"
   ]
  },
  {
   "cell_type": "code",
   "execution_count": 145,
   "metadata": {},
   "outputs": [
    {
     "data": {
      "text/plain": [
       "array(['4+', '17+', '9+', '12+', 'Not yet rated'], dtype=object)"
      ]
     },
     "execution_count": 145,
     "metadata": {},
     "output_type": "execute_result"
    }
   ],
   "source": [
    "df['Content_Rating'].unique()"
   ]
  },
  {
   "cell_type": "code",
   "execution_count": 146,
   "metadata": {},
   "outputs": [],
   "source": [
    "df['Age_group'] = df['Content_Rating'].map({'4+':'Child','17+':'Adult','9+':'School_Going','12+':'Teen','Not yet rated':'Not Rated'})"
   ]
  },
  {
   "cell_type": "code",
   "execution_count": 147,
   "metadata": {},
   "outputs": [
    {
     "data": {
      "text/plain": [
       "array(['Child', 'Adult', 'School_Going', 'Teen', 'Not Rated'],\n",
       "      dtype=object)"
      ]
     },
     "execution_count": 147,
     "metadata": {},
     "output_type": "execute_result"
    }
   ],
   "source": [
    "df['Age_group'].unique()"
   ]
  },
  {
   "cell_type": "code",
   "execution_count": 148,
   "metadata": {},
   "outputs": [
    {
     "data": {
      "text/plain": [
       "Age_group\n",
       "Child           980969\n",
       "Adult           124127\n",
       "Teen             89569\n",
       "School_Going     35697\n",
       "Not Rated           10\n",
       "Name: count, dtype: int64"
      ]
     },
     "execution_count": 148,
     "metadata": {},
     "output_type": "execute_result"
    }
   ],
   "source": [
    "df['Age_group'].value_counts()"
   ]
  },
  {
   "cell_type": "code",
   "execution_count": 149,
   "metadata": {},
   "outputs": [
    {
     "data": {
      "text/plain": [
       "array([    0,     1,  1285, ..., 12691, 35476, 10481], dtype=int64)"
      ]
     },
     "execution_count": 149,
     "metadata": {},
     "output_type": "execute_result"
    }
   ],
   "source": [
    "df['Reviews'].unique()"
   ]
  },
  {
   "cell_type": "code",
   "execution_count": 150,
   "metadata": {},
   "outputs": [
    {
     "data": {
      "text/plain": [
       "Reviews\n",
       "0    684317\n",
       "1    140371\n",
       "2     71721\n",
       "3     44857\n",
       "4     30666\n",
       "Name: count, dtype: int64"
      ]
     },
     "execution_count": 150,
     "metadata": {},
     "output_type": "execute_result"
    }
   ],
   "source": [
    "df['Reviews'].value_counts().head()"
   ]
  },
  {
   "cell_type": "code",
   "execution_count": 151,
   "metadata": {},
   "outputs": [
    {
     "data": {
      "text/plain": [
       "count    1.230372e+06\n",
       "mean     8.259505e+02\n",
       "std      5.016059e+04\n",
       "min      0.000000e+00\n",
       "25%      0.000000e+00\n",
       "50%      0.000000e+00\n",
       "75%      3.000000e+00\n",
       "max      2.268533e+07\n",
       "Name: Reviews, dtype: float64"
      ]
     },
     "execution_count": 151,
     "metadata": {},
     "output_type": "execute_result"
    }
   ],
   "source": [
    "df['Reviews'].describe()"
   ]
  },
  {
   "cell_type": "code",
   "execution_count": 152,
   "metadata": {},
   "outputs": [],
   "source": [
    "bins = [-1 ,0, 100, 500, 1000 ,10000, 100000, 500000, 1000000, 22685334]\n",
    "labels = ['No Reviews','0 to 100','100 to 500 ',\n",
    "          '500 to 1k','1k to 10K', '10k to 100k', '100k to 500k', '500k to 1M', 'Million Plus']\n",
    "\n",
    "df['Reviews_Category'] = pd.cut(df['Reviews'],bins=bins,labels=labels)"
   ]
  },
  {
   "cell_type": "code",
   "execution_count": 153,
   "metadata": {},
   "outputs": [
    {
     "data": {
      "text/plain": [
       "Reviews_Category\n",
       "No Reviews      684317\n",
       "0 to 100        478885\n",
       "100 to 500       33922\n",
       "1k to 10K        17148\n",
       "500 to 1k         9076\n",
       "10k to 100k       5663\n",
       "100k to 500k      1063\n",
       "Million Plus       152\n",
       "500k to 1M         146\n",
       "Name: count, dtype: int64"
      ]
     },
     "execution_count": 153,
     "metadata": {},
     "output_type": "execute_result"
    }
   ],
   "source": [
    "df['Reviews_Category'].value_counts()"
   ]
  },
  {
   "cell_type": "code",
   "execution_count": 154,
   "metadata": {},
   "outputs": [
    {
     "data": {
      "text/plain": [
       "Free\n",
       "True     1127383\n",
       "False     102989\n",
       "Name: count, dtype: int64"
      ]
     },
     "execution_count": 154,
     "metadata": {},
     "output_type": "execute_result"
    }
   ],
   "source": [
    "df['Free'].value_counts()"
   ]
  },
  {
   "cell_type": "code",
   "execution_count": 155,
   "metadata": {},
   "outputs": [],
   "source": [
    "df['Price_Category'] = df['Free'].map({True:'Free',False:'Paid'})"
   ]
  },
  {
   "cell_type": "code",
   "execution_count": 156,
   "metadata": {},
   "outputs": [
    {
     "data": {
      "text/plain": [
       "Price_Category\n",
       "Free    1127383\n",
       "Paid     102989\n",
       "Name: count, dtype: int64"
      ]
     },
     "execution_count": 156,
     "metadata": {},
     "output_type": "execute_result"
    }
   ],
   "source": [
    "df['Price_Category'].value_counts()"
   ]
  },
  {
   "cell_type": "code",
   "execution_count": 157,
   "metadata": {},
   "outputs": [
    {
     "data": {
      "text/plain": [
       "22"
      ]
     },
     "execution_count": 157,
     "metadata": {},
     "output_type": "execute_result"
    }
   ],
   "source": [
    "df.shape[1]"
   ]
  },
  {
   "cell_type": "code",
   "execution_count": 158,
   "metadata": {},
   "outputs": [
    {
     "data": {
      "text/html": [
       "<div>\n",
       "<style scoped>\n",
       "    .dataframe tbody tr th:only-of-type {\n",
       "        vertical-align: middle;\n",
       "    }\n",
       "\n",
       "    .dataframe tbody tr th {\n",
       "        vertical-align: top;\n",
       "    }\n",
       "\n",
       "    .dataframe thead th {\n",
       "        text-align: right;\n",
       "    }\n",
       "</style>\n",
       "<table border=\"1\" class=\"dataframe\">\n",
       "  <thead>\n",
       "    <tr style=\"text-align: right;\">\n",
       "      <th></th>\n",
       "      <th>App_Id</th>\n",
       "      <th>App_Name</th>\n",
       "      <th>AppStore_Url</th>\n",
       "      <th>Primary_Genre</th>\n",
       "      <th>Content_Rating</th>\n",
       "      <th>Size_Bytes</th>\n",
       "      <th>Required_IOS_Version</th>\n",
       "      <th>Released</th>\n",
       "      <th>Updated</th>\n",
       "      <th>Version</th>\n",
       "      <th>...</th>\n",
       "      <th>Free</th>\n",
       "      <th>DeveloperId</th>\n",
       "      <th>Developer</th>\n",
       "      <th>Average_User_Rating</th>\n",
       "      <th>Reviews</th>\n",
       "      <th>Current_Version_Score</th>\n",
       "      <th>Current_Version_Reviews</th>\n",
       "      <th>Age_group</th>\n",
       "      <th>Reviews_Category</th>\n",
       "      <th>Price_Category</th>\n",
       "    </tr>\n",
       "  </thead>\n",
       "  <tbody>\n",
       "    <tr>\n",
       "      <th>0</th>\n",
       "      <td>com.hkbu.arc.apaper</td>\n",
       "      <td>A+ Paper Guide</td>\n",
       "      <td>https://apps.apple.com/us/app/a-paper-guide/id...</td>\n",
       "      <td>Education</td>\n",
       "      <td>4+</td>\n",
       "      <td>21993472.0</td>\n",
       "      <td>8.0</td>\n",
       "      <td>2017-09-28T03:02:41Z</td>\n",
       "      <td>2018-12-21T21:30:36Z</td>\n",
       "      <td>1.1.2</td>\n",
       "      <td>...</td>\n",
       "      <td>True</td>\n",
       "      <td>1375410542</td>\n",
       "      <td>HKBU ARC</td>\n",
       "      <td>0.0</td>\n",
       "      <td>0</td>\n",
       "      <td>0.0</td>\n",
       "      <td>0</td>\n",
       "      <td>Child</td>\n",
       "      <td>No Reviews</td>\n",
       "      <td>Free</td>\n",
       "    </tr>\n",
       "    <tr>\n",
       "      <th>1</th>\n",
       "      <td>com.dmitriev.abooks</td>\n",
       "      <td>A-Books</td>\n",
       "      <td>https://apps.apple.com/us/app/a-books/id103157...</td>\n",
       "      <td>Book</td>\n",
       "      <td>4+</td>\n",
       "      <td>13135872.0</td>\n",
       "      <td>10.0</td>\n",
       "      <td>2015-08-31T19:31:32Z</td>\n",
       "      <td>2019-07-23T20:31:09Z</td>\n",
       "      <td>1.3</td>\n",
       "      <td>...</td>\n",
       "      <td>True</td>\n",
       "      <td>1031572001</td>\n",
       "      <td>Roman Dmitriev</td>\n",
       "      <td>5.0</td>\n",
       "      <td>1</td>\n",
       "      <td>5.0</td>\n",
       "      <td>1</td>\n",
       "      <td>Child</td>\n",
       "      <td>0 to 100</td>\n",
       "      <td>Free</td>\n",
       "    </tr>\n",
       "    <tr>\n",
       "      <th>2</th>\n",
       "      <td>no.terp.abooks</td>\n",
       "      <td>A-books</td>\n",
       "      <td>https://apps.apple.com/us/app/a-books/id145702...</td>\n",
       "      <td>Book</td>\n",
       "      <td>4+</td>\n",
       "      <td>21943296.0</td>\n",
       "      <td>9.0</td>\n",
       "      <td>2021-04-14T07:00:00Z</td>\n",
       "      <td>2021-05-30T21:08:54Z</td>\n",
       "      <td>1.3.1</td>\n",
       "      <td>...</td>\n",
       "      <td>True</td>\n",
       "      <td>1457024163</td>\n",
       "      <td>Terp AS</td>\n",
       "      <td>0.0</td>\n",
       "      <td>0</td>\n",
       "      <td>0.0</td>\n",
       "      <td>0</td>\n",
       "      <td>Child</td>\n",
       "      <td>No Reviews</td>\n",
       "      <td>Free</td>\n",
       "    </tr>\n",
       "    <tr>\n",
       "      <th>3</th>\n",
       "      <td>fr.antoinettefleur.Book1</td>\n",
       "      <td>A-F Book #1</td>\n",
       "      <td>https://apps.apple.com/us/app/a-f-book-1/id500...</td>\n",
       "      <td>Book</td>\n",
       "      <td>4+</td>\n",
       "      <td>81851392.0</td>\n",
       "      <td>8.0</td>\n",
       "      <td>2012-02-10T03:40:07Z</td>\n",
       "      <td>2019-10-29T12:40:37Z</td>\n",
       "      <td>1.2</td>\n",
       "      <td>...</td>\n",
       "      <td>False</td>\n",
       "      <td>439568839</td>\n",
       "      <td>i-editeur.com</td>\n",
       "      <td>0.0</td>\n",
       "      <td>0</td>\n",
       "      <td>0.0</td>\n",
       "      <td>0</td>\n",
       "      <td>Child</td>\n",
       "      <td>No Reviews</td>\n",
       "      <td>Paid</td>\n",
       "    </tr>\n",
       "    <tr>\n",
       "      <th>4</th>\n",
       "      <td>com.imonstersoft.azdictionaryios</td>\n",
       "      <td>A-Z Synonyms Dictionary</td>\n",
       "      <td>https://apps.apple.com/us/app/a-z-synonyms-dic...</td>\n",
       "      <td>Reference</td>\n",
       "      <td>4+</td>\n",
       "      <td>64692224.0</td>\n",
       "      <td>9.0</td>\n",
       "      <td>2020-12-16T08:00:00Z</td>\n",
       "      <td>2020-12-18T21:36:11Z</td>\n",
       "      <td>1.0.1</td>\n",
       "      <td>...</td>\n",
       "      <td>True</td>\n",
       "      <td>656731821</td>\n",
       "      <td>Ngov chiheang</td>\n",
       "      <td>0.0</td>\n",
       "      <td>0</td>\n",
       "      <td>0.0</td>\n",
       "      <td>0</td>\n",
       "      <td>Child</td>\n",
       "      <td>No Reviews</td>\n",
       "      <td>Free</td>\n",
       "    </tr>\n",
       "  </tbody>\n",
       "</table>\n",
       "<p>5 rows × 22 columns</p>\n",
       "</div>"
      ],
      "text/plain": [
       "                             App_Id                 App_Name  \\\n",
       "0               com.hkbu.arc.apaper           A+ Paper Guide   \n",
       "1               com.dmitriev.abooks                  A-Books   \n",
       "2                    no.terp.abooks                  A-books   \n",
       "3          fr.antoinettefleur.Book1              A-F Book #1   \n",
       "4  com.imonstersoft.azdictionaryios  A-Z Synonyms Dictionary   \n",
       "\n",
       "                                        AppStore_Url Primary_Genre  \\\n",
       "0  https://apps.apple.com/us/app/a-paper-guide/id...     Education   \n",
       "1  https://apps.apple.com/us/app/a-books/id103157...          Book   \n",
       "2  https://apps.apple.com/us/app/a-books/id145702...          Book   \n",
       "3  https://apps.apple.com/us/app/a-f-book-1/id500...          Book   \n",
       "4  https://apps.apple.com/us/app/a-z-synonyms-dic...     Reference   \n",
       "\n",
       "  Content_Rating  Size_Bytes Required_IOS_Version              Released  \\\n",
       "0             4+  21993472.0                  8.0  2017-09-28T03:02:41Z   \n",
       "1             4+  13135872.0                 10.0  2015-08-31T19:31:32Z   \n",
       "2             4+  21943296.0                  9.0  2021-04-14T07:00:00Z   \n",
       "3             4+  81851392.0                  8.0  2012-02-10T03:40:07Z   \n",
       "4             4+  64692224.0                  9.0  2020-12-16T08:00:00Z   \n",
       "\n",
       "                Updated Version  ...   Free DeveloperId       Developer  \\\n",
       "0  2018-12-21T21:30:36Z   1.1.2  ...   True  1375410542        HKBU ARC   \n",
       "1  2019-07-23T20:31:09Z     1.3  ...   True  1031572001  Roman Dmitriev   \n",
       "2  2021-05-30T21:08:54Z   1.3.1  ...   True  1457024163         Terp AS   \n",
       "3  2019-10-29T12:40:37Z     1.2  ...  False   439568839   i-editeur.com   \n",
       "4  2020-12-18T21:36:11Z   1.0.1  ...   True   656731821   Ngov chiheang   \n",
       "\n",
       "   Average_User_Rating Reviews  Current_Version_Score  \\\n",
       "0                  0.0       0                    0.0   \n",
       "1                  5.0       1                    5.0   \n",
       "2                  0.0       0                    0.0   \n",
       "3                  0.0       0                    0.0   \n",
       "4                  0.0       0                    0.0   \n",
       "\n",
       "   Current_Version_Reviews  Age_group  Reviews_Category Price_Category  \n",
       "0                        0      Child        No Reviews           Free  \n",
       "1                        1      Child          0 to 100           Free  \n",
       "2                        0      Child        No Reviews           Free  \n",
       "3                        0      Child        No Reviews           Paid  \n",
       "4                        0      Child        No Reviews           Free  \n",
       "\n",
       "[5 rows x 22 columns]"
      ]
     },
     "execution_count": 158,
     "metadata": {},
     "output_type": "execute_result"
    }
   ],
   "source": [
    "df.head()"
   ]
  },
  {
   "cell_type": "code",
   "execution_count": 159,
   "metadata": {},
   "outputs": [
    {
     "data": {
      "text/html": [
       "<div>\n",
       "<style scoped>\n",
       "    .dataframe tbody tr th:only-of-type {\n",
       "        vertical-align: middle;\n",
       "    }\n",
       "\n",
       "    .dataframe tbody tr th {\n",
       "        vertical-align: top;\n",
       "    }\n",
       "\n",
       "    .dataframe thead th {\n",
       "        text-align: right;\n",
       "    }\n",
       "</style>\n",
       "<table border=\"1\" class=\"dataframe\">\n",
       "  <thead>\n",
       "    <tr style=\"text-align: right;\">\n",
       "      <th></th>\n",
       "      <th>Size_Bytes</th>\n",
       "      <th>Price</th>\n",
       "      <th>DeveloperId</th>\n",
       "      <th>Average_User_Rating</th>\n",
       "      <th>Reviews</th>\n",
       "      <th>Current_Version_Score</th>\n",
       "      <th>Current_Version_Reviews</th>\n",
       "    </tr>\n",
       "  </thead>\n",
       "  <tbody>\n",
       "    <tr>\n",
       "      <th>count</th>\n",
       "      <td>1.230372e+06</td>\n",
       "      <td>1.230372e+06</td>\n",
       "      <td>1.230372e+06</td>\n",
       "      <td>1.230372e+06</td>\n",
       "      <td>1.230372e+06</td>\n",
       "      <td>1.230372e+06</td>\n",
       "      <td>1.230372e+06</td>\n",
       "    </tr>\n",
       "    <tr>\n",
       "      <th>mean</th>\n",
       "      <td>7.512181e+07</td>\n",
       "      <td>5.040551e-01</td>\n",
       "      <td>1.092869e+09</td>\n",
       "      <td>1.788388e+00</td>\n",
       "      <td>8.259505e+02</td>\n",
       "      <td>1.788388e+00</td>\n",
       "      <td>8.259505e+02</td>\n",
       "    </tr>\n",
       "    <tr>\n",
       "      <th>std</th>\n",
       "      <td>2.318540e+08</td>\n",
       "      <td>6.868322e+00</td>\n",
       "      <td>4.090895e+08</td>\n",
       "      <td>2.154105e+00</td>\n",
       "      <td>5.016059e+04</td>\n",
       "      <td>2.154105e+00</td>\n",
       "      <td>5.016059e+04</td>\n",
       "    </tr>\n",
       "    <tr>\n",
       "      <th>min</th>\n",
       "      <td>2.762800e+04</td>\n",
       "      <td>0.000000e+00</td>\n",
       "      <td>2.816565e+08</td>\n",
       "      <td>0.000000e+00</td>\n",
       "      <td>0.000000e+00</td>\n",
       "      <td>0.000000e+00</td>\n",
       "      <td>0.000000e+00</td>\n",
       "    </tr>\n",
       "    <tr>\n",
       "      <th>25%</th>\n",
       "      <td>2.041754e+07</td>\n",
       "      <td>0.000000e+00</td>\n",
       "      <td>7.381109e+08</td>\n",
       "      <td>0.000000e+00</td>\n",
       "      <td>0.000000e+00</td>\n",
       "      <td>0.000000e+00</td>\n",
       "      <td>0.000000e+00</td>\n",
       "    </tr>\n",
       "    <tr>\n",
       "      <th>50%</th>\n",
       "      <td>4.334387e+07</td>\n",
       "      <td>0.000000e+00</td>\n",
       "      <td>1.179711e+09</td>\n",
       "      <td>0.000000e+00</td>\n",
       "      <td>0.000000e+00</td>\n",
       "      <td>0.000000e+00</td>\n",
       "      <td>0.000000e+00</td>\n",
       "    </tr>\n",
       "    <tr>\n",
       "      <th>75%</th>\n",
       "      <td>8.368845e+07</td>\n",
       "      <td>0.000000e+00</td>\n",
       "      <td>1.471960e+09</td>\n",
       "      <td>4.333330e+00</td>\n",
       "      <td>3.000000e+00</td>\n",
       "      <td>4.333330e+00</td>\n",
       "      <td>3.000000e+00</td>\n",
       "    </tr>\n",
       "    <tr>\n",
       "      <th>max</th>\n",
       "      <td>7.677945e+10</td>\n",
       "      <td>9.999900e+02</td>\n",
       "      <td>1.590233e+09</td>\n",
       "      <td>5.000000e+00</td>\n",
       "      <td>2.268533e+07</td>\n",
       "      <td>5.000000e+00</td>\n",
       "      <td>2.268533e+07</td>\n",
       "    </tr>\n",
       "  </tbody>\n",
       "</table>\n",
       "</div>"
      ],
      "text/plain": [
       "         Size_Bytes         Price   DeveloperId  Average_User_Rating  \\\n",
       "count  1.230372e+06  1.230372e+06  1.230372e+06         1.230372e+06   \n",
       "mean   7.512181e+07  5.040551e-01  1.092869e+09         1.788388e+00   \n",
       "std    2.318540e+08  6.868322e+00  4.090895e+08         2.154105e+00   \n",
       "min    2.762800e+04  0.000000e+00  2.816565e+08         0.000000e+00   \n",
       "25%    2.041754e+07  0.000000e+00  7.381109e+08         0.000000e+00   \n",
       "50%    4.334387e+07  0.000000e+00  1.179711e+09         0.000000e+00   \n",
       "75%    8.368845e+07  0.000000e+00  1.471960e+09         4.333330e+00   \n",
       "max    7.677945e+10  9.999900e+02  1.590233e+09         5.000000e+00   \n",
       "\n",
       "            Reviews  Current_Version_Score  Current_Version_Reviews  \n",
       "count  1.230372e+06           1.230372e+06             1.230372e+06  \n",
       "mean   8.259505e+02           1.788388e+00             8.259505e+02  \n",
       "std    5.016059e+04           2.154105e+00             5.016059e+04  \n",
       "min    0.000000e+00           0.000000e+00             0.000000e+00  \n",
       "25%    0.000000e+00           0.000000e+00             0.000000e+00  \n",
       "50%    0.000000e+00           0.000000e+00             0.000000e+00  \n",
       "75%    3.000000e+00           4.333330e+00             3.000000e+00  \n",
       "max    2.268533e+07           5.000000e+00             2.268533e+07  "
      ]
     },
     "execution_count": 159,
     "metadata": {},
     "output_type": "execute_result"
    }
   ],
   "source": [
    "df.describe()"
   ]
  },
  {
   "cell_type": "code",
   "execution_count": 160,
   "metadata": {},
   "outputs": [],
   "source": [
    "df['Size_Mb'] = df['Size_Bytes']/(1024*1024)"
   ]
  },
  {
   "cell_type": "code",
   "execution_count": 161,
   "metadata": {},
   "outputs": [
    {
     "data": {
      "text/plain": [
       "23"
      ]
     },
     "execution_count": 161,
     "metadata": {},
     "output_type": "execute_result"
    }
   ],
   "source": [
    "df.shape[1]"
   ]
  },
  {
   "cell_type": "code",
   "execution_count": 162,
   "metadata": {},
   "outputs": [],
   "source": [
    "# sns.pairplot(np.log10(df[['Size_Mb','Price','Reviews','Average_User_Rating']]))"
   ]
  },
  {
   "cell_type": "code",
   "execution_count": 163,
   "metadata": {},
   "outputs": [
    {
     "data": {
      "text/plain": [
       "Primary_Genre\n",
       "Games                     193746\n",
       "Business                  128297\n",
       "Education                 119174\n",
       "Utilities                  94007\n",
       "Lifestyle                  84565\n",
       "Food & Drink               73157\n",
       "Health & Fitness           60724\n",
       "Productivity               59430\n",
       "Entertainment              53147\n",
       "Shopping                   49537\n",
       "Finance                    44984\n",
       "Travel                     43726\n",
       "Sports                     31455\n",
       "Music                      29898\n",
       "Medical                    27995\n",
       "Photo & Video              25957\n",
       "Social Networking          25429\n",
       "News                       20422\n",
       "Reference                  18615\n",
       "Navigation                 12636\n",
       "Stickers                   12407\n",
       "Book                       11472\n",
       "Weather                     3563\n",
       "Graphics & Design           2781\n",
       "Developer Tools             1951\n",
       "Magazines & Newspapers      1297\n",
       "Name: count, dtype: int64"
      ]
     },
     "execution_count": 163,
     "metadata": {},
     "output_type": "execute_result"
    }
   ],
   "source": [
    "df['Primary_Genre'].value_counts().sort_values(ascending=False)"
   ]
  },
  {
   "cell_type": "code",
   "execution_count": 164,
   "metadata": {},
   "outputs": [
    {
     "data": {
      "text/plain": [
       "<Axes: ylabel='Primary_Genre'>"
      ]
     },
     "execution_count": 164,
     "metadata": {},
     "output_type": "execute_result"
    },
    {
     "data": {
      "image/png": "[encoded data removed]",
      "text/plain": [
       "<Figure size 640x480 with 1 Axes>"
      ]
     },
     "metadata": {},
     "output_type": "display_data"
    }
   ],
   "source": [
    "df['Primary_Genre'].value_counts().sort_values(ascending=False).head().plot(kind='barh')"
   ]
  },
  {
   "cell_type": "code",
   "execution_count": 165,
   "metadata": {},
   "outputs": [
    {
     "data": {
      "text/plain": [
       "Content_Rating  Age_group   \n",
       "4+              Child           143091\n",
       "9+              School_Going     20074\n",
       "12+             Teen             19348\n",
       "17+             Adult            11233\n",
       "Name: count, dtype: int64"
      ]
     },
     "execution_count": 165,
     "metadata": {},
     "output_type": "execute_result"
    }
   ],
   "source": [
    "df.loc[df['Primary_Genre']=='Games'][['Content_Rating','Age_group']].value_counts()"
   ]
  },
  {
   "cell_type": "code",
   "execution_count": 166,
   "metadata": {},
   "outputs": [
    {
     "data": {
      "text/plain": [
       "193746"
      ]
     },
     "execution_count": 166,
     "metadata": {},
     "output_type": "execute_result"
    }
   ],
   "source": [
    "df.loc[df['Primary_Genre']=='Games'].value_counts().sum()"
   ]
  },
  {
   "cell_type": "code",
   "execution_count": 167,
   "metadata": {},
   "outputs": [
    {
     "data": {
      "text/plain": [
       "Size_Mb    142.725964\n",
       "dtype: float64"
      ]
     },
     "execution_count": 167,
     "metadata": {},
     "output_type": "execute_result"
    }
   ],
   "source": [
    "df.loc[df['Primary_Genre']=='Games'].agg({'Size_Mb':'mean'})"
   ]
  },
  {
   "cell_type": "code",
   "execution_count": 168,
   "metadata": {},
   "outputs": [
    {
     "data": {
      "text/plain": [
       "Content_Rating  Age_group   \n",
       "4+              Child           108413\n",
       "17+             Adult            16044\n",
       "12+             Teen              3032\n",
       "9+              School_Going       807\n",
       "Not yet rated   Not Rated            1\n",
       "Name: count, dtype: int64"
      ]
     },
     "execution_count": 168,
     "metadata": {},
     "output_type": "execute_result"
    }
   ],
   "source": [
    "df.loc[df['Primary_Genre']=='Business'][['Content_Rating','Age_group']].value_counts()"
   ]
  },
  {
   "cell_type": "code",
   "execution_count": 169,
   "metadata": {},
   "outputs": [
    {
     "data": {
      "text/plain": [
       "Primary_Genre\n",
       "Graphics & Design         151.775571\n",
       "Games                     142.725964\n",
       "Book                       86.477978\n",
       "Education                  80.241849\n",
       "Music                      73.180113\n",
       "Entertainment              69.615906\n",
       "Reference                  69.098092\n",
       "Travel                     68.319781\n",
       "Health & Fitness           63.638878\n",
       "Medical                    60.979255\n",
       "Developer Tools            59.424581\n",
       "Navigation                 59.208963\n",
       "Social Networking          58.876402\n",
       "Photo & Video              58.208844\n",
       "Sports                     56.363982\n",
       "Business                   54.910391\n",
       "Shopping                   54.473685\n",
       "Finance                    54.032225\n",
       "Lifestyle                  52.075187\n",
       "Weather                    51.520926\n",
       "Food & Drink               49.952345\n",
       "Magazines & Newspapers     48.926462\n",
       "Productivity               45.493086\n",
       "News                       43.674519\n",
       "Utilities                  41.906690\n",
       "Stickers                   10.019786\n",
       "Name: Size_Mb, dtype: float64"
      ]
     },
     "execution_count": 169,
     "metadata": {},
     "output_type": "execute_result"
    }
   ],
   "source": [
    "df['Size_Mb'].groupby(df['Primary_Genre']).mean().sort_values(ascending=False)"
   ]
  },
  {
   "cell_type": "code",
   "execution_count": 170,
   "metadata": {},
   "outputs": [
    {
     "data": {
      "text/plain": [
       "Primary_Genre\n",
       "Games                     73222.591724\n",
       "Developer Tools           11819.127508\n",
       "Graphics & Design          8285.178332\n",
       "Education                  7454.177939\n",
       "Health & Fitness           6351.762695\n",
       "Music                      5087.920526\n",
       "Medical                    4421.127548\n",
       "Navigation                 4078.283203\n",
       "Photo & Video              4064.996090\n",
       "Lifestyle                  3801.382812\n",
       "Productivity               3741.470703\n",
       "Reference                  3735.692383\n",
       "Finance                    3729.322861\n",
       "Travel                     3699.264264\n",
       "Entertainment              3692.175781\n",
       "Business                   3631.584961\n",
       "Sports                     3534.732422\n",
       "Utilities                  3475.285156\n",
       "Shopping                   3449.924805\n",
       "Book                       3358.143555\n",
       "Weather                    2457.967403\n",
       "Food & Drink               2422.165039\n",
       "Social Networking          2306.086914\n",
       "News                       1043.904297\n",
       "Stickers                    465.428711\n",
       "Magazines & Newspapers      352.888672\n",
       "Name: Size_Mb, dtype: float64"
      ]
     },
     "execution_count": 170,
     "metadata": {},
     "output_type": "execute_result"
    }
   ],
   "source": [
    "df.groupby('Primary_Genre')['Size_Mb'].max().sort_values(ascending=False)"
   ]
  },
  {
   "cell_type": "code",
   "execution_count": 171,
   "metadata": {},
   "outputs": [
    {
     "data": {
      "text/plain": [
       "Price    0.277227\n",
       "dtype: float64"
      ]
     },
     "execution_count": 171,
     "metadata": {},
     "output_type": "execute_result"
    }
   ],
   "source": [
    "df[df['Primary_Genre']=='Games'].agg({'Price':'mean'})"
   ]
  },
  {
   "cell_type": "code",
   "execution_count": 172,
   "metadata": {},
   "outputs": [
    {
     "data": {
      "text/plain": [
       "Primary_Genre\n",
       "Graphics & Design         6.982309\n",
       "Developer Tools           4.807427\n",
       "Music                     1.505414\n",
       "Medical                   1.388844\n",
       "Reference                 1.297108\n",
       "Photo & Video             1.238679\n",
       "Education                 0.981684\n",
       "Stickers                  0.918461\n",
       "Navigation                0.900588\n",
       "Productivity              0.888851\n",
       "Weather                   0.666298\n",
       "Book                      0.625991\n",
       "Utilities                 0.585330\n",
       "Sports                    0.528561\n",
       "Business                  0.368580\n",
       "Entertainment             0.288484\n",
       "Health & Fitness          0.278705\n",
       "Games                     0.277227\n",
       "Travel                    0.270790\n",
       "Finance                   0.237173\n",
       "Lifestyle                 0.160620\n",
       "Social Networking         0.119589\n",
       "News                      0.064469\n",
       "Food & Drink              0.039276\n",
       "Shopping                  0.016119\n",
       "Magazines & Newspapers    0.012305\n",
       "Name: Price, dtype: float64"
      ]
     },
     "execution_count": 172,
     "metadata": {},
     "output_type": "execute_result"
    }
   ],
   "source": [
    "df.groupby('Primary_Genre')['Price'].mean().sort_values(ascending=False)"
   ]
  },
  {
   "cell_type": "markdown",
   "metadata": {},
   "source": [
    "### Top 5 Apps which  have the highest price in *games* genre"
   ]
  },
  {
   "cell_type": "markdown",
   "metadata": {},
   "source": []
  },
  {
   "cell_type": "code",
   "execution_count": 173,
   "metadata": {},
   "outputs": [
    {
     "data": {
      "text/html": [
       "<div>\n",
       "<style scoped>\n",
       "    .dataframe tbody tr th:only-of-type {\n",
       "        vertical-align: middle;\n",
       "    }\n",
       "\n",
       "    .dataframe tbody tr th {\n",
       "        vertical-align: top;\n",
       "    }\n",
       "\n",
       "    .dataframe thead th {\n",
       "        text-align: right;\n",
       "    }\n",
       "</style>\n",
       "<table border=\"1\" class=\"dataframe\">\n",
       "  <thead>\n",
       "    <tr style=\"text-align: right;\">\n",
       "      <th></th>\n",
       "      <th>App_Name</th>\n",
       "      <th>Primary_Genre</th>\n",
       "      <th>Age_group</th>\n",
       "      <th>Price_Category</th>\n",
       "      <th>Price</th>\n",
       "    </tr>\n",
       "  </thead>\n",
       "  <tbody>\n",
       "    <tr>\n",
       "      <th>382924</th>\n",
       "      <td>Noir.</td>\n",
       "      <td>Games</td>\n",
       "      <td>Child</td>\n",
       "      <td>Paid</td>\n",
       "      <td>174.99</td>\n",
       "    </tr>\n",
       "    <tr>\n",
       "      <th>710496</th>\n",
       "      <td>Horror Game: Granny Pro</td>\n",
       "      <td>Games</td>\n",
       "      <td>Adult</td>\n",
       "      <td>Paid</td>\n",
       "      <td>109.99</td>\n",
       "    </tr>\n",
       "    <tr>\n",
       "      <th>710525</th>\n",
       "      <td>Horror House Survival: Pro</td>\n",
       "      <td>Games</td>\n",
       "      <td>Adult</td>\n",
       "      <td>Paid</td>\n",
       "      <td>109.99</td>\n",
       "    </tr>\n",
       "    <tr>\n",
       "      <th>676746</th>\n",
       "      <td>Rhythmeo</td>\n",
       "      <td>Games</td>\n",
       "      <td>Child</td>\n",
       "      <td>Paid</td>\n",
       "      <td>99.99</td>\n",
       "    </tr>\n",
       "    <tr>\n",
       "      <th>779630</th>\n",
       "      <td>BMI Standard</td>\n",
       "      <td>Games</td>\n",
       "      <td>Child</td>\n",
       "      <td>Paid</td>\n",
       "      <td>99.99</td>\n",
       "    </tr>\n",
       "  </tbody>\n",
       "</table>\n",
       "</div>"
      ],
      "text/plain": [
       "                          App_Name Primary_Genre Age_group Price_Category  \\\n",
       "382924                       Noir.         Games     Child           Paid   \n",
       "710496     Horror Game: Granny Pro         Games     Adult           Paid   \n",
       "710525  Horror House Survival: Pro         Games     Adult           Paid   \n",
       "676746                    Rhythmeo         Games     Child           Paid   \n",
       "779630                BMI Standard         Games     Child           Paid   \n",
       "\n",
       "         Price  \n",
       "382924  174.99  \n",
       "710496  109.99  \n",
       "710525  109.99  \n",
       "676746   99.99  \n",
       "779630   99.99  "
      ]
     },
     "execution_count": 173,
     "metadata": {},
     "output_type": "execute_result"
    }
   ],
   "source": [
    "df[df['Primary_Genre']=='Games'][['App_Name', 'Primary_Genre', 'Age_group','Price_Category','Price']].sort_values(by='Price',ascending=False).head()"
   ]
  },
  {
   "cell_type": "markdown",
   "metadata": {},
   "source": [
    "### Top 5 Apps which have the highest Reviews in games Genre"
   ]
  },
  {
   "cell_type": "code",
   "execution_count": 174,
   "metadata": {},
   "outputs": [
    {
     "data": {
      "text/html": [
       "<div>\n",
       "<style scoped>\n",
       "    .dataframe tbody tr th:only-of-type {\n",
       "        vertical-align: middle;\n",
       "    }\n",
       "\n",
       "    .dataframe tbody tr th {\n",
       "        vertical-align: top;\n",
       "    }\n",
       "\n",
       "    .dataframe thead th {\n",
       "        text-align: right;\n",
       "    }\n",
       "</style>\n",
       "<table border=\"1\" class=\"dataframe\">\n",
       "  <thead>\n",
       "    <tr style=\"text-align: right;\">\n",
       "      <th></th>\n",
       "      <th>App_Name</th>\n",
       "      <th>Primary_Genre</th>\n",
       "      <th>Age_group</th>\n",
       "      <th>Price_Category</th>\n",
       "      <th>Price</th>\n",
       "      <th>Reviews</th>\n",
       "    </tr>\n",
       "  </thead>\n",
       "  <tbody>\n",
       "    <tr>\n",
       "      <th>413123</th>\n",
       "      <td>Roblox</td>\n",
       "      <td>Games</td>\n",
       "      <td>Teen</td>\n",
       "      <td>Free</td>\n",
       "      <td>0.0</td>\n",
       "      <td>6127588</td>\n",
       "    </tr>\n",
       "    <tr>\n",
       "      <th>526873</th>\n",
       "      <td>Sniper 3D: Gun Shooting Games</td>\n",
       "      <td>Games</td>\n",
       "      <td>Adult</td>\n",
       "      <td>Free</td>\n",
       "      <td>0.0</td>\n",
       "      <td>2538582</td>\n",
       "    </tr>\n",
       "    <tr>\n",
       "      <th>227582</th>\n",
       "      <td>Episode - Choose Your Story</td>\n",
       "      <td>Games</td>\n",
       "      <td>Teen</td>\n",
       "      <td>Free</td>\n",
       "      <td>0.0</td>\n",
       "      <td>2334130</td>\n",
       "    </tr>\n",
       "    <tr>\n",
       "      <th>135092</th>\n",
       "      <td>Candy Crush Saga</td>\n",
       "      <td>Games</td>\n",
       "      <td>Child</td>\n",
       "      <td>Free</td>\n",
       "      <td>0.0</td>\n",
       "      <td>2177394</td>\n",
       "    </tr>\n",
       "    <tr>\n",
       "      <th>754914</th>\n",
       "      <td>Toon Blast</td>\n",
       "      <td>Games</td>\n",
       "      <td>Teen</td>\n",
       "      <td>Free</td>\n",
       "      <td>0.0</td>\n",
       "      <td>2119062</td>\n",
       "    </tr>\n",
       "  </tbody>\n",
       "</table>\n",
       "</div>"
      ],
      "text/plain": [
       "                             App_Name Primary_Genre Age_group Price_Category  \\\n",
       "413123                         Roblox         Games      Teen           Free   \n",
       "526873  Sniper 3D: Gun Shooting Games         Games     Adult           Free   \n",
       "227582    Episode - Choose Your Story         Games      Teen           Free   \n",
       "135092               Candy Crush Saga         Games     Child           Free   \n",
       "754914                     Toon Blast         Games      Teen           Free   \n",
       "\n",
       "        Price  Reviews  \n",
       "413123    0.0  6127588  \n",
       "526873    0.0  2538582  \n",
       "227582    0.0  2334130  \n",
       "135092    0.0  2177394  \n",
       "754914    0.0  2119062  "
      ]
     },
     "execution_count": 174,
     "metadata": {},
     "output_type": "execute_result"
    }
   ],
   "source": [
    "df.loc[df['Primary_Genre']==\"Games\"][['App_Name', 'Primary_Genre', 'Age_group','Price_Category','Price','Reviews']].sort_values(by='Reviews',ascending=False).head()"
   ]
  },
  {
   "cell_type": "code",
   "execution_count": 175,
   "metadata": {},
   "outputs": [
    {
     "data": {
      "text/html": [
       "<div>\n",
       "<style scoped>\n",
       "    .dataframe tbody tr th:only-of-type {\n",
       "        vertical-align: middle;\n",
       "    }\n",
       "\n",
       "    .dataframe tbody tr th {\n",
       "        vertical-align: top;\n",
       "    }\n",
       "\n",
       "    .dataframe thead th {\n",
       "        text-align: right;\n",
       "    }\n",
       "</style>\n",
       "<table border=\"1\" class=\"dataframe\">\n",
       "  <thead>\n",
       "    <tr style=\"text-align: right;\">\n",
       "      <th></th>\n",
       "      <th>App_Name</th>\n",
       "      <th>Primary_Genre</th>\n",
       "      <th>Age_group</th>\n",
       "      <th>Price_Category</th>\n",
       "      <th>Price</th>\n",
       "      <th>Average_User_Rating</th>\n",
       "    </tr>\n",
       "  </thead>\n",
       "  <tbody>\n",
       "    <tr>\n",
       "      <th>21</th>\n",
       "      <td>AAA³ Little Ponies &amp; Unicorns</td>\n",
       "      <td>Games</td>\n",
       "      <td>Child</td>\n",
       "      <td>Free</td>\n",
       "      <td>0.0</td>\n",
       "      <td>5.0</td>\n",
       "    </tr>\n",
       "    <tr>\n",
       "      <th>456535</th>\n",
       "      <td>Tile Hopper</td>\n",
       "      <td>Games</td>\n",
       "      <td>Child</td>\n",
       "      <td>Free</td>\n",
       "      <td>0.0</td>\n",
       "      <td>5.0</td>\n",
       "    </tr>\n",
       "    <tr>\n",
       "      <th>456466</th>\n",
       "      <td>Rush To 21</td>\n",
       "      <td>Games</td>\n",
       "      <td>Child</td>\n",
       "      <td>Free</td>\n",
       "      <td>0.0</td>\n",
       "      <td>5.0</td>\n",
       "    </tr>\n",
       "    <tr>\n",
       "      <th>456471</th>\n",
       "      <td>TikTok Game</td>\n",
       "      <td>Games</td>\n",
       "      <td>Child</td>\n",
       "      <td>Free</td>\n",
       "      <td>0.0</td>\n",
       "      <td>5.0</td>\n",
       "    </tr>\n",
       "    <tr>\n",
       "      <th>456483</th>\n",
       "      <td>Tile Climber</td>\n",
       "      <td>Games</td>\n",
       "      <td>Child</td>\n",
       "      <td>Free</td>\n",
       "      <td>0.0</td>\n",
       "      <td>5.0</td>\n",
       "    </tr>\n",
       "  </tbody>\n",
       "</table>\n",
       "</div>"
      ],
      "text/plain": [
       "                             App_Name Primary_Genre Age_group Price_Category  \\\n",
       "21      AAA³ Little Ponies & Unicorns         Games     Child           Free   \n",
       "456535                    Tile Hopper         Games     Child           Free   \n",
       "456466                     Rush To 21         Games     Child           Free   \n",
       "456471                    TikTok Game         Games     Child           Free   \n",
       "456483                   Tile Climber         Games     Child           Free   \n",
       "\n",
       "        Price  Average_User_Rating  \n",
       "21        0.0                  5.0  \n",
       "456535    0.0                  5.0  \n",
       "456466    0.0                  5.0  \n",
       "456471    0.0                  5.0  \n",
       "456483    0.0                  5.0  "
      ]
     },
     "execution_count": 175,
     "metadata": {},
     "output_type": "execute_result"
    }
   ],
   "source": [
    "df[df['Primary_Genre']=='Games'][['App_Name', 'Primary_Genre', 'Age_group','Price_Category','Price','Average_User_Rating']].sort_values(by='Average_User_Rating',ascending=False).head()\n"
   ]
  },
  {
   "cell_type": "code",
   "execution_count": 176,
   "metadata": {},
   "outputs": [
    {
     "data": {
      "text/html": [
       "<div>\n",
       "<style scoped>\n",
       "    .dataframe tbody tr th:only-of-type {\n",
       "        vertical-align: middle;\n",
       "    }\n",
       "\n",
       "    .dataframe tbody tr th {\n",
       "        vertical-align: top;\n",
       "    }\n",
       "\n",
       "    .dataframe thead th {\n",
       "        text-align: right;\n",
       "    }\n",
       "</style>\n",
       "<table border=\"1\" class=\"dataframe\">\n",
       "  <thead>\n",
       "    <tr style=\"text-align: right;\">\n",
       "      <th></th>\n",
       "      <th>Reviews</th>\n",
       "    </tr>\n",
       "    <tr>\n",
       "      <th>Primary_Genre</th>\n",
       "      <th></th>\n",
       "    </tr>\n",
       "  </thead>\n",
       "  <tbody>\n",
       "    <tr>\n",
       "      <th>Games</th>\n",
       "      <td>258446115</td>\n",
       "    </tr>\n",
       "    <tr>\n",
       "      <th>Finance</th>\n",
       "      <td>90502834</td>\n",
       "    </tr>\n",
       "    <tr>\n",
       "      <th>Photo &amp; Video</th>\n",
       "      <td>76764633</td>\n",
       "    </tr>\n",
       "    <tr>\n",
       "      <th>Shopping</th>\n",
       "      <td>74140277</td>\n",
       "    </tr>\n",
       "    <tr>\n",
       "      <th>Food &amp; Drink</th>\n",
       "      <td>57859585</td>\n",
       "    </tr>\n",
       "  </tbody>\n",
       "</table>\n",
       "</div>"
      ],
      "text/plain": [
       "                 Reviews\n",
       "Primary_Genre           \n",
       "Games          258446115\n",
       "Finance         90502834\n",
       "Photo & Video   76764633\n",
       "Shopping        74140277\n",
       "Food & Drink    57859585"
      ]
     },
     "execution_count": 176,
     "metadata": {},
     "output_type": "execute_result"
    }
   ],
   "source": [
    "df.groupby('Primary_Genre').agg({'Reviews':'sum'}).sort_values(by='Reviews',ascending=False).head()"
   ]
  },
  {
   "cell_type": "code",
   "execution_count": 177,
   "metadata": {},
   "outputs": [
    {
     "data": {
      "text/plain": [
       "<Axes: xlabel='Price_Category'>"
      ]
     },
     "execution_count": 177,
     "metadata": {},
     "output_type": "execute_result"
    },
    {
     "data": {
      "image/png": "[encoded data removed]",
      "text/plain": [
       "<Figure size 640x480 with 1 Axes>"
      ]
     },
     "metadata": {},
     "output_type": "display_data"
    }
   ],
   "source": [
    "df.Price_Category.value_counts().plot(kind='bar')"
   ]
  },
  {
   "cell_type": "code",
   "execution_count": 178,
   "metadata": {},
   "outputs": [
    {
     "data": {
      "text/plain": [
       "Primary_Genre\n",
       "Education                 17375\n",
       "Games                     16337\n",
       "Utilities                  9723\n",
       "Stickers                   8865\n",
       "Productivity               6006\n",
       "Music                      5367\n",
       "Photo & Video              4861\n",
       "Entertainment              4099\n",
       "Health & Fitness           3393\n",
       "Reference                  3364\n",
       "Travel                     3344\n",
       "Lifestyle                  3270\n",
       "Business                   2762\n",
       "Medical                    2471\n",
       "Sports                     2411\n",
       "Finance                    1577\n",
       "Book                       1563\n",
       "Navigation                 1517\n",
       "Graphics & Design          1119\n",
       "Food & Drink                882\n",
       "Social Networking           813\n",
       "Developer Tools             771\n",
       "Weather                     598\n",
       "Shopping                    255\n",
       "News                        242\n",
       "Magazines & Newspapers        4\n",
       "dtype: int64"
      ]
     },
     "execution_count": 178,
     "metadata": {},
     "output_type": "execute_result"
    }
   ],
   "source": [
    "df[df['Price_Category']=='Paid'].groupby('Primary_Genre').size().sort_values(ascending=False)"
   ]
  },
  {
   "cell_type": "code",
   "execution_count": 179,
   "metadata": {},
   "outputs": [
    {
     "name": "stderr",
     "output_type": "stream",
     "text": [
      "C:\\Users\\lenovo\\AppData\\Local\\Temp\\ipykernel_13912\\4185199823.py:1: UserWarning: Boolean Series key will be reindexed to match DataFrame index.\n",
      "  df[df['Primary_Genre'] == 'Games'][(df['Price_Category'] == 'Paid')].value_counts().sum()\n"
     ]
    },
    {
     "data": {
      "text/plain": [
       "16337"
      ]
     },
     "execution_count": 179,
     "metadata": {},
     "output_type": "execute_result"
    }
   ],
   "source": [
    "df[df['Primary_Genre'] == 'Games'][(df['Price_Category'] == 'Paid')].value_counts().sum()"
   ]
  },
  {
   "cell_type": "code",
   "execution_count": 180,
   "metadata": {},
   "outputs": [
    {
     "data": {
      "text/plain": [
       "Primary_Genre\n",
       "Games                     177409\n",
       "Business                  125535\n",
       "Education                 101799\n",
       "Utilities                  84284\n",
       "Lifestyle                  81295\n",
       "Food & Drink               72275\n",
       "Health & Fitness           57331\n",
       "Productivity               53424\n",
       "Shopping                   49282\n",
       "Entertainment              49048\n",
       "Finance                    43407\n",
       "Travel                     40382\n",
       "Sports                     29044\n",
       "Medical                    25524\n",
       "Social Networking          24616\n",
       "Music                      24531\n",
       "Photo & Video              21096\n",
       "News                       20180\n",
       "Reference                  15251\n",
       "Navigation                 11119\n",
       "Book                        9909\n",
       "Stickers                    3542\n",
       "Weather                     2965\n",
       "Graphics & Design           1662\n",
       "Magazines & Newspapers      1293\n",
       "Developer Tools             1180\n",
       "Name: count, dtype: int64"
      ]
     },
     "execution_count": 180,
     "metadata": {},
     "output_type": "execute_result"
    }
   ],
   "source": [
    "df.loc[df['Price_Category']=='Free']['Primary_Genre'].value_counts().sort_values(ascending=False)"
   ]
  },
  {
   "cell_type": "code",
   "execution_count": 181,
   "metadata": {},
   "outputs": [
    {
     "data": {
      "text/plain": [
       "Content_Rating  Age_group   \n",
       "4+              Child           980969\n",
       "17+             Adult           124127\n",
       "12+             Teen             89569\n",
       "9+              School_Going     35697\n",
       "Not yet rated   Not Rated           10\n",
       "Name: count, dtype: int64"
      ]
     },
     "execution_count": 181,
     "metadata": {},
     "output_type": "execute_result"
    }
   ],
   "source": [
    "df[['Content_Rating','Age_group']].value_counts().sort_values(ascending=False)"
   ]
  },
  {
   "cell_type": "code",
   "execution_count": 182,
   "metadata": {},
   "outputs": [
    {
     "data": {
      "text/html": [
       "<div>\n",
       "<style scoped>\n",
       "    .dataframe tbody tr th:only-of-type {\n",
       "        vertical-align: middle;\n",
       "    }\n",
       "\n",
       "    .dataframe tbody tr th {\n",
       "        vertical-align: top;\n",
       "    }\n",
       "\n",
       "    .dataframe thead th {\n",
       "        text-align: right;\n",
       "    }\n",
       "</style>\n",
       "<table border=\"1\" class=\"dataframe\">\n",
       "  <thead>\n",
       "    <tr style=\"text-align: right;\">\n",
       "      <th></th>\n",
       "      <th></th>\n",
       "      <th>Reviews</th>\n",
       "    </tr>\n",
       "    <tr>\n",
       "      <th>Content_Rating</th>\n",
       "      <th>Age_group</th>\n",
       "      <th></th>\n",
       "    </tr>\n",
       "  </thead>\n",
       "  <tbody>\n",
       "    <tr>\n",
       "      <th>4+</th>\n",
       "      <th>Child</th>\n",
       "      <td>582236835</td>\n",
       "    </tr>\n",
       "    <tr>\n",
       "      <th>12+</th>\n",
       "      <th>Teen</th>\n",
       "      <td>294146057</td>\n",
       "    </tr>\n",
       "    <tr>\n",
       "      <th>17+</th>\n",
       "      <th>Adult</th>\n",
       "      <td>102404281</td>\n",
       "    </tr>\n",
       "    <tr>\n",
       "      <th>9+</th>\n",
       "      <th>School_Going</th>\n",
       "      <td>37423417</td>\n",
       "    </tr>\n",
       "    <tr>\n",
       "      <th>Not yet rated</th>\n",
       "      <th>Not Rated</th>\n",
       "      <td>15750</td>\n",
       "    </tr>\n",
       "  </tbody>\n",
       "</table>\n",
       "</div>"
      ],
      "text/plain": [
       "                               Reviews\n",
       "Content_Rating Age_group              \n",
       "4+             Child         582236835\n",
       "12+            Teen          294146057\n",
       "17+            Adult         102404281\n",
       "9+             School_Going   37423417\n",
       "Not yet rated  Not Rated         15750"
      ]
     },
     "execution_count": 182,
     "metadata": {},
     "output_type": "execute_result"
    }
   ],
   "source": [
    "df.groupby(['Content_Rating','Age_group']).agg({'Reviews':'sum'}).sort_values(by='Reviews',ascending=False)"
   ]
  },
  {
   "cell_type": "code",
   "execution_count": 183,
   "metadata": {},
   "outputs": [
    {
     "data": {
      "text/plain": [
       "Content_Rating  Age_group   \n",
       "12+             Teen            2.275614\n",
       "17+             Adult           1.675438\n",
       "4+              Child           1.725041\n",
       "9+              School_Going    2.699551\n",
       "Not yet rated   Not Rated       1.339046\n",
       "Name: Average_User_Rating, dtype: float64"
      ]
     },
     "execution_count": 183,
     "metadata": {},
     "output_type": "execute_result"
    }
   ],
   "source": [
    "df.groupby(['Content_Rating','Age_group'])['Average_User_Rating'].mean()"
   ]
  },
  {
   "cell_type": "code",
   "execution_count": 184,
   "metadata": {},
   "outputs": [
    {
     "data": {
      "text/html": [
       "<div>\n",
       "<style scoped>\n",
       "    .dataframe tbody tr th:only-of-type {\n",
       "        vertical-align: middle;\n",
       "    }\n",
       "\n",
       "    .dataframe tbody tr th {\n",
       "        vertical-align: top;\n",
       "    }\n",
       "\n",
       "    .dataframe thead th {\n",
       "        text-align: right;\n",
       "    }\n",
       "</style>\n",
       "<table border=\"1\" class=\"dataframe\">\n",
       "  <thead>\n",
       "    <tr style=\"text-align: right;\">\n",
       "      <th></th>\n",
       "      <th>App_Id</th>\n",
       "      <th>App_Name</th>\n",
       "      <th>AppStore_Url</th>\n",
       "      <th>Primary_Genre</th>\n",
       "      <th>Content_Rating</th>\n",
       "      <th>Size_Bytes</th>\n",
       "      <th>Required_IOS_Version</th>\n",
       "      <th>Released</th>\n",
       "      <th>Updated</th>\n",
       "      <th>Version</th>\n",
       "      <th>...</th>\n",
       "      <th>DeveloperId</th>\n",
       "      <th>Developer</th>\n",
       "      <th>Average_User_Rating</th>\n",
       "      <th>Reviews</th>\n",
       "      <th>Current_Version_Score</th>\n",
       "      <th>Current_Version_Reviews</th>\n",
       "      <th>Age_group</th>\n",
       "      <th>Reviews_Category</th>\n",
       "      <th>Price_Category</th>\n",
       "      <th>Size_Mb</th>\n",
       "    </tr>\n",
       "  </thead>\n",
       "  <tbody>\n",
       "    <tr>\n",
       "      <th>20678</th>\n",
       "      <td>com.jazel.Mobile</td>\n",
       "      <td>Jazel</td>\n",
       "      <td>https://apps.apple.com/us/app/jazel/id30900899...</td>\n",
       "      <td>Business</td>\n",
       "      <td>Not yet rated</td>\n",
       "      <td>273401.0</td>\n",
       "      <td>2.2.1</td>\n",
       "      <td>2009-06-04T17:49:32Z</td>\n",
       "      <td>2009-06-04T17:49:32Z</td>\n",
       "      <td>0.9</td>\n",
       "      <td>...</td>\n",
       "      <td>309008998</td>\n",
       "      <td>Jazel, LLC</td>\n",
       "      <td>2.85714</td>\n",
       "      <td>7</td>\n",
       "      <td>2.85714</td>\n",
       "      <td>7</td>\n",
       "      <td>Not Rated</td>\n",
       "      <td>0 to 100</td>\n",
       "      <td>Free</td>\n",
       "      <td>0.260736</td>\n",
       "    </tr>\n",
       "    <tr>\n",
       "      <th>162278</th>\n",
       "      <td>com.developers.BlueKnight.FinancialPower</td>\n",
       "      <td>Financial Power</td>\n",
       "      <td>https://apps.apple.com/us/app/financial-power/...</td>\n",
       "      <td>Education</td>\n",
       "      <td>Not yet rated</td>\n",
       "      <td>161049600.0</td>\n",
       "      <td>14.0</td>\n",
       "      <td>2021-01-07T08:00:00Z</td>\n",
       "      <td>2021-04-08T11:19:18Z</td>\n",
       "      <td>1.0.3</td>\n",
       "      <td>...</td>\n",
       "      <td>1448003183</td>\n",
       "      <td>Mikolaj Adamowicz</td>\n",
       "      <td>0.00000</td>\n",
       "      <td>0</td>\n",
       "      <td>0.00000</td>\n",
       "      <td>0</td>\n",
       "      <td>Not Rated</td>\n",
       "      <td>No Reviews</td>\n",
       "      <td>Paid</td>\n",
       "      <td>153.588867</td>\n",
       "    </tr>\n",
       "    <tr>\n",
       "      <th>243261</th>\n",
       "      <td>U23V6258E8.IPTV-Streamer.max</td>\n",
       "      <td>IPTV Streamer Max</td>\n",
       "      <td>https://apps.apple.com/us/app/iptv-streamer-ma...</td>\n",
       "      <td>Photo &amp; Video</td>\n",
       "      <td>Not yet rated</td>\n",
       "      <td>57259008.0</td>\n",
       "      <td>13.0</td>\n",
       "      <td>2021-05-03T07:00:00Z</td>\n",
       "      <td>2021-10-13T01:03:28Z</td>\n",
       "      <td>1.0</td>\n",
       "      <td>...</td>\n",
       "      <td>1081636655</td>\n",
       "      <td>Oussema Riahi</td>\n",
       "      <td>0.00000</td>\n",
       "      <td>0</td>\n",
       "      <td>0.00000</td>\n",
       "      <td>0</td>\n",
       "      <td>Not Rated</td>\n",
       "      <td>No Reviews</td>\n",
       "      <td>Free</td>\n",
       "      <td>54.606445</td>\n",
       "    </tr>\n",
       "    <tr>\n",
       "      <th>296302</th>\n",
       "      <td>com.softoptech.flsport</td>\n",
       "      <td>FL SPORT</td>\n",
       "      <td>https://apps.apple.com/us/app/fl-sport/id15513...</td>\n",
       "      <td>Sports</td>\n",
       "      <td>Not yet rated</td>\n",
       "      <td>19896320.0</td>\n",
       "      <td>11.0</td>\n",
       "      <td>2021-02-17T08:00:00Z</td>\n",
       "      <td>2021-02-17T08:00:00Z</td>\n",
       "      <td>1.2.6</td>\n",
       "      <td>...</td>\n",
       "      <td>1551336293</td>\n",
       "      <td>Softoptech</td>\n",
       "      <td>0.00000</td>\n",
       "      <td>0</td>\n",
       "      <td>0.00000</td>\n",
       "      <td>0</td>\n",
       "      <td>Not Rated</td>\n",
       "      <td>No Reviews</td>\n",
       "      <td>Free</td>\n",
       "      <td>18.974609</td>\n",
       "    </tr>\n",
       "    <tr>\n",
       "      <th>461280</th>\n",
       "      <td>com.snyderapps.daw.ficacollider</td>\n",
       "      <td>FICA Collider</td>\n",
       "      <td>https://apps.apple.com/us/app/fica-collider/id...</td>\n",
       "      <td>Finance</td>\n",
       "      <td>Not yet rated</td>\n",
       "      <td>116542.0</td>\n",
       "      <td>2.0</td>\n",
       "      <td>2009-02-27T03:56:01Z</td>\n",
       "      <td>2009-02-27T03:56:01Z</td>\n",
       "      <td>1.0.0</td>\n",
       "      <td>...</td>\n",
       "      <td>306214056</td>\n",
       "      <td>David and William Snyder</td>\n",
       "      <td>3.00000</td>\n",
       "      <td>2</td>\n",
       "      <td>3.00000</td>\n",
       "      <td>2</td>\n",
       "      <td>Not Rated</td>\n",
       "      <td>0 to 100</td>\n",
       "      <td>Paid</td>\n",
       "      <td>0.111143</td>\n",
       "    </tr>\n",
       "    <tr>\n",
       "      <th>478839</th>\n",
       "      <td>com.3r.vatdeluxe</td>\n",
       "      <td>VAT Deluxe</td>\n",
       "      <td>https://apps.apple.com/us/app/vat-deluxe/id296...</td>\n",
       "      <td>Finance</td>\n",
       "      <td>Not yet rated</td>\n",
       "      <td>288520.0</td>\n",
       "      <td>2.0</td>\n",
       "      <td>2008-11-15T07:58:25Z</td>\n",
       "      <td>2008-11-22T01:20:04Z</td>\n",
       "      <td>1.0.1</td>\n",
       "      <td>...</td>\n",
       "      <td>295111872</td>\n",
       "      <td>3R Software</td>\n",
       "      <td>0.00000</td>\n",
       "      <td>0</td>\n",
       "      <td>0.00000</td>\n",
       "      <td>0</td>\n",
       "      <td>Not Rated</td>\n",
       "      <td>No Reviews</td>\n",
       "      <td>Paid</td>\n",
       "      <td>0.275154</td>\n",
       "    </tr>\n",
       "    <tr>\n",
       "      <th>628879</th>\n",
       "      <td>CowbellFever</td>\n",
       "      <td>Cowbell Fever</td>\n",
       "      <td>https://apps.apple.com/us/app/cowbell-fever/id...</td>\n",
       "      <td>Entertainment</td>\n",
       "      <td>Not yet rated</td>\n",
       "      <td>1209720.0</td>\n",
       "      <td>2.2.1</td>\n",
       "      <td>2009-03-31T14:10:50Z</td>\n",
       "      <td>2009-03-31T14:10:50Z</td>\n",
       "      <td>1.0</td>\n",
       "      <td>...</td>\n",
       "      <td>306437482</td>\n",
       "      <td>Krishan Khandpur</td>\n",
       "      <td>2.46309</td>\n",
       "      <td>1924</td>\n",
       "      <td>2.46309</td>\n",
       "      <td>1924</td>\n",
       "      <td>Not Rated</td>\n",
       "      <td>1k to 10K</td>\n",
       "      <td>Free</td>\n",
       "      <td>1.153679</td>\n",
       "    </tr>\n",
       "    <tr>\n",
       "      <th>864422</th>\n",
       "      <td>com.littlehj.tableclock</td>\n",
       "      <td>Table Clock</td>\n",
       "      <td>https://apps.apple.com/us/app/table-clock/id30...</td>\n",
       "      <td>Utilities</td>\n",
       "      <td>Not yet rated</td>\n",
       "      <td>948645.0</td>\n",
       "      <td>2.2</td>\n",
       "      <td>2009-01-15T17:50:55Z</td>\n",
       "      <td>2009-01-15T17:50:55Z</td>\n",
       "      <td>1.0</td>\n",
       "      <td>...</td>\n",
       "      <td>301345235</td>\n",
       "      <td>LittleHJ</td>\n",
       "      <td>2.81250</td>\n",
       "      <td>16</td>\n",
       "      <td>2.81250</td>\n",
       "      <td>16</td>\n",
       "      <td>Not Rated</td>\n",
       "      <td>0 to 100</td>\n",
       "      <td>Paid</td>\n",
       "      <td>0.904698</td>\n",
       "    </tr>\n",
       "    <tr>\n",
       "      <th>990466</th>\n",
       "      <td>com.yourcompany.EightBall</td>\n",
       "      <td>Speedometer</td>\n",
       "      <td>https://apps.apple.com/us/app/speedometer/id28...</td>\n",
       "      <td>Navigation</td>\n",
       "      <td>Not yet rated</td>\n",
       "      <td>86305.0</td>\n",
       "      <td>2.2</td>\n",
       "      <td>2019-02-11T08:00:00Z</td>\n",
       "      <td>2019-02-11T08:00:00Z</td>\n",
       "      <td>2.0</td>\n",
       "      <td>...</td>\n",
       "      <td>286577231</td>\n",
       "      <td>DistinctDev, Inc.</td>\n",
       "      <td>2.25773</td>\n",
       "      <td>13801</td>\n",
       "      <td>2.25773</td>\n",
       "      <td>13801</td>\n",
       "      <td>Not Rated</td>\n",
       "      <td>10k to 100k</td>\n",
       "      <td>Free</td>\n",
       "      <td>0.082307</td>\n",
       "    </tr>\n",
       "    <tr>\n",
       "      <th>1023831</th>\n",
       "      <td>com.3r.paketstatus</td>\n",
       "      <td>Paket Status</td>\n",
       "      <td>https://apps.apple.com/us/app/paket-status/id2...</td>\n",
       "      <td>Utilities</td>\n",
       "      <td>Not yet rated</td>\n",
       "      <td>1060780.0</td>\n",
       "      <td>2.0</td>\n",
       "      <td>2008-10-30T18:12:31Z</td>\n",
       "      <td>2008-11-06T01:04:23Z</td>\n",
       "      <td>1.1</td>\n",
       "      <td>...</td>\n",
       "      <td>295111872</td>\n",
       "      <td>3R Software</td>\n",
       "      <td>0.00000</td>\n",
       "      <td>0</td>\n",
       "      <td>0.00000</td>\n",
       "      <td>0</td>\n",
       "      <td>Not Rated</td>\n",
       "      <td>No Reviews</td>\n",
       "      <td>Paid</td>\n",
       "      <td>1.011639</td>\n",
       "    </tr>\n",
       "  </tbody>\n",
       "</table>\n",
       "<p>10 rows × 23 columns</p>\n",
       "</div>"
      ],
      "text/plain": [
       "                                           App_Id           App_Name  \\\n",
       "20678                            com.jazel.Mobile              Jazel   \n",
       "162278   com.developers.BlueKnight.FinancialPower    Financial Power   \n",
       "243261               U23V6258E8.IPTV-Streamer.max  IPTV Streamer Max   \n",
       "296302                     com.softoptech.flsport           FL SPORT   \n",
       "461280            com.snyderapps.daw.ficacollider      FICA Collider   \n",
       "478839                           com.3r.vatdeluxe         VAT Deluxe   \n",
       "628879                               CowbellFever      Cowbell Fever   \n",
       "864422                    com.littlehj.tableclock        Table Clock   \n",
       "990466                  com.yourcompany.EightBall        Speedometer   \n",
       "1023831                        com.3r.paketstatus       Paket Status   \n",
       "\n",
       "                                              AppStore_Url  Primary_Genre  \\\n",
       "20678    https://apps.apple.com/us/app/jazel/id30900899...       Business   \n",
       "162278   https://apps.apple.com/us/app/financial-power/...      Education   \n",
       "243261   https://apps.apple.com/us/app/iptv-streamer-ma...  Photo & Video   \n",
       "296302   https://apps.apple.com/us/app/fl-sport/id15513...         Sports   \n",
       "461280   https://apps.apple.com/us/app/fica-collider/id...        Finance   \n",
       "478839   https://apps.apple.com/us/app/vat-deluxe/id296...        Finance   \n",
       "628879   https://apps.apple.com/us/app/cowbell-fever/id...  Entertainment   \n",
       "864422   https://apps.apple.com/us/app/table-clock/id30...      Utilities   \n",
       "990466   https://apps.apple.com/us/app/speedometer/id28...     Navigation   \n",
       "1023831  https://apps.apple.com/us/app/paket-status/id2...      Utilities   \n",
       "\n",
       "        Content_Rating   Size_Bytes Required_IOS_Version  \\\n",
       "20678    Not yet rated     273401.0                2.2.1   \n",
       "162278   Not yet rated  161049600.0                 14.0   \n",
       "243261   Not yet rated   57259008.0                 13.0   \n",
       "296302   Not yet rated   19896320.0                 11.0   \n",
       "461280   Not yet rated     116542.0                  2.0   \n",
       "478839   Not yet rated     288520.0                  2.0   \n",
       "628879   Not yet rated    1209720.0                2.2.1   \n",
       "864422   Not yet rated     948645.0                  2.2   \n",
       "990466   Not yet rated      86305.0                  2.2   \n",
       "1023831  Not yet rated    1060780.0                  2.0   \n",
       "\n",
       "                     Released               Updated Version  ...  DeveloperId  \\\n",
       "20678    2009-06-04T17:49:32Z  2009-06-04T17:49:32Z     0.9  ...    309008998   \n",
       "162278   2021-01-07T08:00:00Z  2021-04-08T11:19:18Z   1.0.3  ...   1448003183   \n",
       "243261   2021-05-03T07:00:00Z  2021-10-13T01:03:28Z     1.0  ...   1081636655   \n",
       "296302   2021-02-17T08:00:00Z  2021-02-17T08:00:00Z   1.2.6  ...   1551336293   \n",
       "461280   2009-02-27T03:56:01Z  2009-02-27T03:56:01Z   1.0.0  ...    306214056   \n",
       "478839   2008-11-15T07:58:25Z  2008-11-22T01:20:04Z   1.0.1  ...    295111872   \n",
       "628879   2009-03-31T14:10:50Z  2009-03-31T14:10:50Z     1.0  ...    306437482   \n",
       "864422   2009-01-15T17:50:55Z  2009-01-15T17:50:55Z     1.0  ...    301345235   \n",
       "990466   2019-02-11T08:00:00Z  2019-02-11T08:00:00Z     2.0  ...    286577231   \n",
       "1023831  2008-10-30T18:12:31Z  2008-11-06T01:04:23Z     1.1  ...    295111872   \n",
       "\n",
       "                        Developer  Average_User_Rating  Reviews  \\\n",
       "20678                  Jazel, LLC              2.85714        7   \n",
       "162278          Mikolaj Adamowicz              0.00000        0   \n",
       "243261              Oussema Riahi              0.00000        0   \n",
       "296302                 Softoptech              0.00000        0   \n",
       "461280   David and William Snyder              3.00000        2   \n",
       "478839                3R Software              0.00000        0   \n",
       "628879           Krishan Khandpur              2.46309     1924   \n",
       "864422                   LittleHJ              2.81250       16   \n",
       "990466          DistinctDev, Inc.              2.25773    13801   \n",
       "1023831               3R Software              0.00000        0   \n",
       "\n",
       "        Current_Version_Score  Current_Version_Reviews  Age_group  \\\n",
       "20678                 2.85714                        7  Not Rated   \n",
       "162278                0.00000                        0  Not Rated   \n",
       "243261                0.00000                        0  Not Rated   \n",
       "296302                0.00000                        0  Not Rated   \n",
       "461280                3.00000                        2  Not Rated   \n",
       "478839                0.00000                        0  Not Rated   \n",
       "628879                2.46309                     1924  Not Rated   \n",
       "864422                2.81250                       16  Not Rated   \n",
       "990466                2.25773                    13801  Not Rated   \n",
       "1023831               0.00000                        0  Not Rated   \n",
       "\n",
       "         Reviews_Category  Price_Category     Size_Mb  \n",
       "20678            0 to 100            Free    0.260736  \n",
       "162278         No Reviews            Paid  153.588867  \n",
       "243261         No Reviews            Free   54.606445  \n",
       "296302         No Reviews            Free   18.974609  \n",
       "461280           0 to 100            Paid    0.111143  \n",
       "478839         No Reviews            Paid    0.275154  \n",
       "628879          1k to 10K            Free    1.153679  \n",
       "864422           0 to 100            Paid    0.904698  \n",
       "990466        10k to 100k            Free    0.082307  \n",
       "1023831        No Reviews            Paid    1.011639  \n",
       "\n",
       "[10 rows x 23 columns]"
      ]
     },
     "execution_count": 184,
     "metadata": {},
     "output_type": "execute_result"
    }
   ],
   "source": [
    "df[df['Content_Rating'] == 'Not yet rated']"
   ]
  },
  {
   "cell_type": "code",
   "execution_count": 185,
   "metadata": {},
   "outputs": [
    {
     "data": {
      "text/plain": [
       "Age_group\n",
       "Child           980969\n",
       "Adult           124127\n",
       "Teen             89569\n",
       "School_Going     35697\n",
       "Not Rated           10\n",
       "Name: count, dtype: int64"
      ]
     },
     "execution_count": 185,
     "metadata": {},
     "output_type": "execute_result"
    }
   ],
   "source": [
    "df.Age_group.value_counts()"
   ]
  },
  {
   "cell_type": "code",
   "execution_count": 186,
   "metadata": {},
   "outputs": [
    {
     "data": {
      "text/html": [
       "<div>\n",
       "<style scoped>\n",
       "    .dataframe tbody tr th:only-of-type {\n",
       "        vertical-align: middle;\n",
       "    }\n",
       "\n",
       "    .dataframe tbody tr th {\n",
       "        vertical-align: top;\n",
       "    }\n",
       "\n",
       "    .dataframe thead th {\n",
       "        text-align: right;\n",
       "    }\n",
       "</style>\n",
       "<table border=\"1\" class=\"dataframe\">\n",
       "  <thead>\n",
       "    <tr style=\"text-align: right;\">\n",
       "      <th></th>\n",
       "      <th>App_Name</th>\n",
       "      <th>Developer</th>\n",
       "      <th>Age_group</th>\n",
       "      <th>Content_Rating</th>\n",
       "      <th>Size_Mb</th>\n",
       "      <th>Primary_Genre</th>\n",
       "      <th>Reviews</th>\n",
       "    </tr>\n",
       "  </thead>\n",
       "  <tbody>\n",
       "    <tr>\n",
       "      <th>483342</th>\n",
       "      <td>Venmo</td>\n",
       "      <td>Venmo</td>\n",
       "      <td>Child</td>\n",
       "      <td>4+</td>\n",
       "      <td>355.278320</td>\n",
       "      <td>Finance</td>\n",
       "      <td>12634191</td>\n",
       "    </tr>\n",
       "    <tr>\n",
       "      <th>961751</th>\n",
       "      <td>Lyft</td>\n",
       "      <td>Lyft, Inc.</td>\n",
       "      <td>Child</td>\n",
       "      <td>4+</td>\n",
       "      <td>436.665039</td>\n",
       "      <td>Travel</td>\n",
       "      <td>10241777</td>\n",
       "    </tr>\n",
       "    <tr>\n",
       "      <th>22346</th>\n",
       "      <td>Bible</td>\n",
       "      <td>Life.Church</td>\n",
       "      <td>Child</td>\n",
       "      <td>4+</td>\n",
       "      <td>180.839844</td>\n",
       "      <td>Reference</td>\n",
       "      <td>7181127</td>\n",
       "    </tr>\n",
       "    <tr>\n",
       "      <th>92127</th>\n",
       "      <td>Wells Fargo Mobile</td>\n",
       "      <td>Wells Fargo</td>\n",
       "      <td>Child</td>\n",
       "      <td>4+</td>\n",
       "      <td>87.253906</td>\n",
       "      <td>Finance</td>\n",
       "      <td>6275778</td>\n",
       "    </tr>\n",
       "    <tr>\n",
       "      <th>437978</th>\n",
       "      <td>PayPal: Mobile Cash</td>\n",
       "      <td>PayPal, Inc.</td>\n",
       "      <td>Child</td>\n",
       "      <td>4+</td>\n",
       "      <td>405.039062</td>\n",
       "      <td>Finance</td>\n",
       "      <td>5962807</td>\n",
       "    </tr>\n",
       "    <tr>\n",
       "      <th>...</th>\n",
       "      <td>...</td>\n",
       "      <td>...</td>\n",
       "      <td>...</td>\n",
       "      <td>...</td>\n",
       "      <td>...</td>\n",
       "      <td>...</td>\n",
       "      <td>...</td>\n",
       "    </tr>\n",
       "    <tr>\n",
       "      <th>511253</th>\n",
       "      <td>Indi's</td>\n",
       "      <td>Miah Aktar</td>\n",
       "      <td>Child</td>\n",
       "      <td>4+</td>\n",
       "      <td>24.858398</td>\n",
       "      <td>Food &amp; Drink</td>\n",
       "      <td>0</td>\n",
       "    </tr>\n",
       "    <tr>\n",
       "      <th>511254</th>\n",
       "      <td>Indi-Mart</td>\n",
       "      <td>Badho India Private Limited</td>\n",
       "      <td>Child</td>\n",
       "      <td>4+</td>\n",
       "      <td>82.668945</td>\n",
       "      <td>Food &amp; Drink</td>\n",
       "      <td>0</td>\n",
       "    </tr>\n",
       "    <tr>\n",
       "      <th>511255</th>\n",
       "      <td>India at Q</td>\n",
       "      <td>FAISAL LATIF</td>\n",
       "      <td>Child</td>\n",
       "      <td>4+</td>\n",
       "      <td>53.258789</td>\n",
       "      <td>Food &amp; Drink</td>\n",
       "      <td>0</td>\n",
       "    </tr>\n",
       "    <tr>\n",
       "      <th>511260</th>\n",
       "      <td>India Food 2 Go.</td>\n",
       "      <td>Faisal Shabir</td>\n",
       "      <td>Child</td>\n",
       "      <td>4+</td>\n",
       "      <td>53.918945</td>\n",
       "      <td>Food &amp; Drink</td>\n",
       "      <td>0</td>\n",
       "    </tr>\n",
       "    <tr>\n",
       "      <th>1230375</th>\n",
       "      <td>Sổ Điểm Thông Minh</td>\n",
       "      <td>Pham Thanh Vo</td>\n",
       "      <td>Child</td>\n",
       "      <td>4+</td>\n",
       "      <td>81.191406</td>\n",
       "      <td>Utilities</td>\n",
       "      <td>0</td>\n",
       "    </tr>\n",
       "  </tbody>\n",
       "</table>\n",
       "<p>980969 rows × 7 columns</p>\n",
       "</div>"
      ],
      "text/plain": [
       "                    App_Name                    Developer Age_group  \\\n",
       "483342                 Venmo                        Venmo     Child   \n",
       "961751                  Lyft                   Lyft, Inc.     Child   \n",
       "22346                  Bible                  Life.Church     Child   \n",
       "92127     Wells Fargo Mobile                  Wells Fargo     Child   \n",
       "437978   PayPal: Mobile Cash                 PayPal, Inc.     Child   \n",
       "...                      ...                          ...       ...   \n",
       "511253                Indi's                   Miah Aktar     Child   \n",
       "511254             Indi-Mart  Badho India Private Limited     Child   \n",
       "511255            India at Q                 FAISAL LATIF     Child   \n",
       "511260      India Food 2 Go.                Faisal Shabir     Child   \n",
       "1230375   Sổ Điểm Thông Minh                Pham Thanh Vo     Child   \n",
       "\n",
       "        Content_Rating     Size_Mb Primary_Genre   Reviews  \n",
       "483342              4+  355.278320       Finance  12634191  \n",
       "961751              4+  436.665039        Travel  10241777  \n",
       "22346               4+  180.839844     Reference   7181127  \n",
       "92127               4+   87.253906       Finance   6275778  \n",
       "437978              4+  405.039062       Finance   5962807  \n",
       "...                ...         ...           ...       ...  \n",
       "511253              4+   24.858398  Food & Drink         0  \n",
       "511254              4+   82.668945  Food & Drink         0  \n",
       "511255              4+   53.258789  Food & Drink         0  \n",
       "511260              4+   53.918945  Food & Drink         0  \n",
       "1230375             4+   81.191406     Utilities         0  \n",
       "\n",
       "[980969 rows x 7 columns]"
      ]
     },
     "execution_count": 186,
     "metadata": {},
     "output_type": "execute_result"
    }
   ],
   "source": [
    "df.loc[df['Age_group']=='Child'][['App_Name','Developer','Age_group', 'Content_Rating','Size_Mb','Primary_Genre','Reviews']].sort_values(by='Reviews',ascending=False)"
   ]
  },
  {
   "cell_type": "code",
   "execution_count": 187,
   "metadata": {},
   "outputs": [
    {
     "data": {
      "text/html": [
       "<div>\n",
       "<style scoped>\n",
       "    .dataframe tbody tr th:only-of-type {\n",
       "        vertical-align: middle;\n",
       "    }\n",
       "\n",
       "    .dataframe tbody tr th {\n",
       "        vertical-align: top;\n",
       "    }\n",
       "\n",
       "    .dataframe thead th {\n",
       "        text-align: right;\n",
       "    }\n",
       "</style>\n",
       "<table border=\"1\" class=\"dataframe\">\n",
       "  <thead>\n",
       "    <tr style=\"text-align: right;\">\n",
       "      <th></th>\n",
       "      <th>App_Name</th>\n",
       "      <th>Developer</th>\n",
       "      <th>Age_group</th>\n",
       "      <th>Content_Rating</th>\n",
       "      <th>Size_Mb</th>\n",
       "      <th>Primary_Genre</th>\n",
       "      <th>Reviews</th>\n",
       "    </tr>\n",
       "  </thead>\n",
       "  <tbody>\n",
       "    <tr>\n",
       "      <th>996310</th>\n",
       "      <td>Instagram</td>\n",
       "      <td>Instagram, Inc.</td>\n",
       "      <td>Teen</td>\n",
       "      <td>12+</td>\n",
       "      <td>184.103516</td>\n",
       "      <td>Photo &amp; Video</td>\n",
       "      <td>21839585</td>\n",
       "    </tr>\n",
       "    <tr>\n",
       "      <th>647929</th>\n",
       "      <td>Spotify New Music and Podcasts</td>\n",
       "      <td>Spotify Ltd.</td>\n",
       "      <td>Teen</td>\n",
       "      <td>12+</td>\n",
       "      <td>147.574219</td>\n",
       "      <td>Music</td>\n",
       "      <td>18893225</td>\n",
       "    </tr>\n",
       "    <tr>\n",
       "      <th>580482</th>\n",
       "      <td>DoorDash - Food Delivery</td>\n",
       "      <td>DoorDash, Inc.</td>\n",
       "      <td>Teen</td>\n",
       "      <td>12+</td>\n",
       "      <td>259.298828</td>\n",
       "      <td>Food &amp; Drink</td>\n",
       "      <td>12517538</td>\n",
       "    </tr>\n",
       "    <tr>\n",
       "      <th>456470</th>\n",
       "      <td>TikTok</td>\n",
       "      <td>TikTok Pte. Ltd.</td>\n",
       "      <td>Teen</td>\n",
       "      <td>12+</td>\n",
       "      <td>431.314453</td>\n",
       "      <td>Entertainment</td>\n",
       "      <td>10598509</td>\n",
       "    </tr>\n",
       "    <tr>\n",
       "      <th>1136477</th>\n",
       "      <td>WhatsApp Messenger</td>\n",
       "      <td>WhatsApp Inc.</td>\n",
       "      <td>Teen</td>\n",
       "      <td>12+</td>\n",
       "      <td>183.106445</td>\n",
       "      <td>Social Networking</td>\n",
       "      <td>9090956</td>\n",
       "    </tr>\n",
       "  </tbody>\n",
       "</table>\n",
       "</div>"
      ],
      "text/plain": [
       "                               App_Name         Developer Age_group  \\\n",
       "996310                        Instagram   Instagram, Inc.      Teen   \n",
       "647929   Spotify New Music and Podcasts      Spotify Ltd.      Teen   \n",
       "580482         DoorDash - Food Delivery    DoorDash, Inc.      Teen   \n",
       "456470                           TikTok  TikTok Pte. Ltd.      Teen   \n",
       "1136477              WhatsApp Messenger     WhatsApp Inc.      Teen   \n",
       "\n",
       "        Content_Rating     Size_Mb      Primary_Genre   Reviews  \n",
       "996310             12+  184.103516      Photo & Video  21839585  \n",
       "647929             12+  147.574219              Music  18893225  \n",
       "580482             12+  259.298828       Food & Drink  12517538  \n",
       "456470             12+  431.314453      Entertainment  10598509  \n",
       "1136477            12+  183.106445  Social Networking   9090956  "
      ]
     },
     "execution_count": 187,
     "metadata": {},
     "output_type": "execute_result"
    }
   ],
   "source": [
    "df.loc[df['Age_group']=='Teen'][['App_Name','Developer','Age_group', 'Content_Rating','Size_Mb','Primary_Genre','Reviews']].sort_values(by='Reviews',ascending=False).head()"
   ]
  },
  {
   "cell_type": "code",
   "execution_count": 188,
   "metadata": {},
   "outputs": [
    {
     "data": {
      "text/plain": [
       "Developer                 Primary_Genre  Price_Category  Age_group\n",
       "ASK Video                 Music          Paid            Child        604\n",
       "Nonlinear Educating Inc.  Music          Paid            Child        347\n",
       "Elizabeth Gemmell         Stickers       Paid            Child        288\n",
       "GignoSystem Japan, Inc.   Stickers       Paid            Child        287\n",
       "Prajith R                 Lifestyle      Paid            Child        231\n",
       "dtype: int64"
      ]
     },
     "execution_count": 188,
     "metadata": {},
     "output_type": "execute_result"
    }
   ],
   "source": [
    "df.loc[(df['Price_Category'] == 'Paid') & (df['Age_group'] == 'Child')].groupby(['Developer','Primary_Genre','Price_Category','Age_group']).size().sort_values(ascending=False).head(5)"
   ]
  },
  {
   "cell_type": "code",
   "execution_count": 189,
   "metadata": {},
   "outputs": [
    {
     "data": {
      "text/plain": [
       "Developer              Primary_Genre  Reviews_Category\n",
       "ChowNow                Food & Drink   0 to 100            2843\n",
       "Touch2Success          Food & Drink   No Reviews          1634\n",
       "Alexander Velimirovic  Food & Drink   No Reviews          1506\n",
       "ChowNow                Food & Drink   No Reviews          1070\n",
       "Phorest                Lifestyle      No Reviews          1001\n",
       "Name: count, dtype: int64"
      ]
     },
     "execution_count": 189,
     "metadata": {},
     "output_type": "execute_result"
    }
   ],
   "source": [
    "df.groupby('Developer')[['Primary_Genre','Reviews_Category']].value_counts().sort_values(ascending=False).head(5)"
   ]
  },
  {
   "cell_type": "code",
   "execution_count": 5,
   "metadata": {},
   "outputs": [],
   "source": [
    "df.loc[df['Reviews_Category']=='0 to 100'][[ 'Developer', 'Primary_Genre', 'Reviews_Category']].value_counts().head()"
   ]
  },
  {
   "cell_type": "code",
   "execution_count": null,
   "metadata": {},
   "outputs": [],
   "source": [
    "sns.histplot(df,x= 'Age_group')"
   ]
  },
  {
   "cell_type": "code",
   "execution_count": null,
   "metadata": {},
   "outputs": [],
   "source": [
    "sns.scatterplot(df,x='Content_Rating',y='Age_group')"
   ]
  },
  {
   "cell_type": "code",
   "execution_count": null,
   "metadata": {},
   "outputs": [],
   "source": [
    "df['Content_Rating'].value_counts().plot(kind='pie')"
   ]
  },
  {
   "cell_type": "code",
   "execution_count": null,
   "metadata": {},
   "outputs": [],
   "source": [
    "df['Age_group'].value_counts().plot(kind='pie')"
   ]
  },
  {
   "cell_type": "code",
   "execution_count": null,
   "metadata": {},
   "outputs": [],
   "source": [
    "df['Content_Rating'].value_counts().plot(kind='bar')"
   ]
  },
  {
   "cell_type": "code",
   "execution_count": null,
   "metadata": {},
   "outputs": [],
   "source": [
    "sns.countplot(data=df,x='Reviews_Category')"
   ]
  },
  {
   "cell_type": "code",
   "execution_count": null,
   "metadata": {},
   "outputs": [],
   "source": [
    "sns.barplot(data=df,x='Reviews',y='Content_Rating')"
   ]
  },
  {
   "cell_type": "markdown",
   "metadata": {},
   "source": [
    "# Conclusion & Findings:\n",
    "The primary goal of this to analyze the Apple Apps Store dataset and identify insights based on the data. During this EDA exercise, we have achieved several milestones:\n",
    "\n",
    "We have cleaned the dataset from null values from the columns like Size_Bytes, Price and in those columns we have applied some unique approach to impute missing values.\n",
    "\n",
    "Also, checked for duplicates. Although the app names have duplications, they are unique records with different DeveloperId and Primary_Genre. Also we had done Feature engineering on the dataset and introduce some new columns like Size_Mb ,Formatted_Price, age_groups and Reviews_Category which helped us for better understanding of the dataset."
   ]
  },
  {
   "cell_type": "code",
   "execution_count": null,
   "metadata": {},
   "outputs": [],
   "source": []
  },
  {
   "cell_type": "markdown",
   "metadata": {},
   "source": []
  },
  {
   "cell_type": "code",
   "execution_count": null,
   "metadata": {},
   "outputs": [],
   "source": []
  },
  {
   "cell_type": "code",
   "execution_count": null,
   "metadata": {},
   "outputs": [],
   "source": []
  }
 ],
 "metadata": {
  "kernelspec": {
   "display_name": "base",
   "language": "python",
   "name": "python3"
  },
  "language_info": {
   "codemirror_mode": {
    "name": "ipython",
    "version": 3
   },
   "file_extension": ".py",
   "mimetype": "text/x-python",
   "name": "python",
   "nbconvert_exporter": "python",
   "pygments_lexer": "ipython3",
   "version": "3.11.9"
  }
 },
 "nbformat": 4,
 "nbformat_minor": 2
}
